{
 "cells": [
  {
   "cell_type": "code",
   "execution_count": 1,
   "metadata": {},
   "outputs": [],
   "source": [
    "# Run this every time you open the spreadsheet\n",
    "%load_ext autoreload\n",
    "%autoreload 2\n",
    "from collections import Counter\n",
    "import lib\n",
    "import random\n",
    "\n",
    "# todo:\n",
    "# pie chart for cls distr\n",
    "# bar charts for 1) per class metrics (precision/recall/F1); 2) comparing effectivenss of processing\n",
    "# confusion matrix"
   ]
  },
  {
   "cell_type": "markdown",
   "metadata": {},
   "source": [
    "## Optional Exercise: Add bigram capabilities to the classifier!\n",
    "\n",
    "So far our Naive Bayes classifier scores an Average F1 score of 66.9% on the test set.\n",
    "Let's see if we can improve on that by incorporating bigrams!\n"
   ]
  },
  {
   "cell_type": "code",
   "execution_count": 97,
   "metadata": {},
   "outputs": [
    {
     "name": "stdout",
     "output_type": "stream",
     "text": [
      "Checking if bigrams are correct...\n",
      "Bigrams are correct.\n",
      "\n"
     ]
    }
   ],
   "source": [
    "def add_bigrams(tweet):\n",
    "    # Currently, tweet has an attribute called tweet.tokenList which is a list of tokens.\n",
    "    # You want to add a new attribute to tweet called tweet.bigramList which is a list of bigrams.\n",
    "    # Each bigram should be a pair of strings. You can define the bigram like this: bigram = (token1, token2).\n",
    "    # In Python, this is called a tuple. You can read more about tuples here: https://www.programiz.com/python-programming/tuple\n",
    "\n",
    "    ##### YOUR CODE STARTS HERE #####\n",
    "    tweet.bigramList = list(zip(tweet.tokenList, tweet.tokenList[1:]))\n",
    "    \n",
    "    ##### YOUR CODE ENDS HERE #####\n",
    "\n",
    "\n",
    "sandy_tweets, sandy_test_tweets = lib.read_data()\n",
    "haiti_tweets, haiti_test_tweets = lib.read_haiti_data()\n",
    "\n",
    "for tweet in sandy_tweets+sandy_test_tweets+haiti_tweets+haiti_test_tweets:\n",
    "    add_bigrams(tweet)\n",
    "print(\"Checking if bigrams are correct...\")\n",
    "for tweet in sandy_tweets+sandy_test_tweets+haiti_tweets+haiti_test_tweets:\n",
    "    assert tweet._bigramList==tweet.bigramList, \"Error in your implementation of the bigram list!\"\n",
    "print(\"Bigrams are correct.\\n\")\n"
   ]
  },
  {
   "cell_type": "code",
   "execution_count": 99,
   "metadata": {},
   "outputs": [
    {
     "name": "stdout",
     "output_type": "stream",
     "text": [
      "# sandy: 1120\n",
      "# sandy test: 281\n"
     ]
    },
    {
     "data": {
      "image/png": "[encoded data removed]",
      "text/plain": [
       "<Figure size 432x288 with 1 Axes>"
      ]
     },
     "metadata": {},
     "output_type": "display_data"
    },
    {
     "name": "stdout",
     "output_type": "stream",
     "text": [
      "\n",
      "# haiti: 1597\n",
      "# haiti test: 400\n"
     ]
    },
    {
     "data": {
      "image/png": "[encoded data removed]",
      "text/plain": [
       "<Figure size 432x288 with 1 Axes>"
      ]
     },
     "metadata": {},
     "output_type": "display_data"
    }
   ],
   "source": [
    "# Let's take a look at the data distribution\n",
    "\n",
    "print('# sandy:', len(sandy_tweets))\n",
    "print('# sandy test:', len(sandy_test_tweets))\n",
    "lib.class_pie_chart(tweets)\n",
    "\n",
    "print()\n",
    "\n",
    "print('# haiti:', len(haiti_tweets))\n",
    "print('# haiti test:', len(haiti_test_tweets))\n",
    "lib.class_pie_chart(test_tweets)\n"
   ]
  },
  {
   "cell_type": "markdown",
   "metadata": {},
   "source": [
    "## Re-run the classifier and get evaluation score\n",
    "\n",
    "This notebook uses our implementation of the Naive Bayes classifier, but it's very similar to what you implemented yesterday. If you're interested in the details, take a look at the `learn_nb` and `classify_nb` functions in `lib.py` in the `AI4ALL2018` directory.\n",
    "\n",
    "For this exercise, let's use the Sandy dataset."
   ]
  },
  {
   "cell_type": "code",
   "execution_count": 131,
   "metadata": {},
   "outputs": [
    {
     "name": "stdout",
     "output_type": "stream",
     "text": [
      "Energy\n",
      "Precision:  60.0\n",
      "Recall:  67.5\n",
      "F1:  63.529411764705884\n",
      "\n",
      "Food\n",
      "Precision:  84.39716312056737\n",
      "Recall:  92.24806201550388\n",
      "F1:  88.14814814814815\n",
      "\n",
      "Medical\n",
      "Precision:  75.0\n",
      "Recall:  46.15384615384615\n",
      "F1:  57.14285714285714\n",
      "\n",
      "None\n",
      "Precision:  82.66666666666667\n",
      "Recall:  78.48101265822785\n",
      "F1:  80.51948051948052\n",
      "\n",
      "Water\n",
      "Precision:  83.33333333333333\n",
      "Recall:  50.0\n",
      "F1:  62.5\n",
      "\n",
      "Average F1:  70.36797951503834\n"
     ]
    }
   ],
   "source": [
    "# tweets, test_tweets = lib.read_data()\n",
    "tweets, test_tweets = sandy_tweets, sandy_test_tweets\n",
    "prior_probs, token_probs = lib.learn_nb(tweets)\n",
    "predictions = [(tweet, lib.classify_nb(tweet, prior_probs, token_probs)) for tweet in test_tweets]\n",
    "labels, precisions, recalls, f1s = lib.evaluate(predictions, has_return=True)"
   ]
  },
  {
   "cell_type": "markdown",
   "metadata": {},
   "source": [
    "## Inspecting the Classifier\n",
    "\n",
    "After implementing and training a classifier, you often want to inspect what kind of things it has learned and how it is making predictions on individual examples. This can help you make sure that you implemented everything correctly and it might give you ideas on how to further improve the classifier.\n",
    "\n",
    "### Most discriminative words\n",
    "\n",
    "Let's first look again at the most discriminative words for each category, i.e. the words that maximize P(category|word), for each category."
   ]
  },
  {
   "cell_type": "code",
   "execution_count": 101,
   "metadata": {},
   "outputs": [
    {
     "name": "stdout",
     "output_type": "stream",
     "text": [
      "MOST DISCRIMINATIVE TOKENS: \n",
      "\n",
      "TOKEN                P(Energy|token)\n",
      "b'dark'              0.8029\n",
      "b'powers'            0.8029\n",
      "b'generator'         0.7654\n",
      "b'batteries'         0.7559\n",
      "b'class'             0.7534\n",
      "b'sandysucks'        0.7534\n",
      "b'flashlights'       0.7345\n",
      "b'masks'             0.7334\n",
      "b'11/3'              0.6736\n",
      "b'***********************' 0.6707\n",
      "\n",
      "TOKEN                P(Food|token)\n",
      "b'canned'            0.9784\n",
      "b'non-perishable'    0.9767\n",
      "b'serve'             0.9663\n",
      "b'perishable'        0.9562\n",
      "b'cook'              0.9511\n",
      "b'sandwiches'        0.9489\n",
      "b'soup'              0.9489\n",
      "b'thanksgiving'      0.9441\n",
      "b'rice'              0.9441\n",
      "b'pasta'             0.9383\n",
      "\n",
      "TOKEN                P(Medical|token)\n",
      "b'meds'              0.8229\n",
      "b'aid'               0.8008\n",
      "b'ointment'          0.7360\n",
      "b'prescription'      0.7360\n",
      "b'ups'               0.7360\n",
      "b'medications'       0.7360\n",
      "b'4t-5t'             0.7360\n",
      "b'medicine'          0.7360\n",
      "b'pull'              0.6596\n",
      "b'kits'              0.6596\n",
      "\n",
      "TOKEN                P(None|token)\n",
      "b'..'                0.9531\n",
      "b'everyone'          0.8955\n",
      "b'last'              0.8809\n",
      "b'feel'              0.8809\n",
      "b'im'                0.8618\n",
      "b'irene'             0.8604\n",
      "b'...'               0.8601\n",
      "b'finally'           0.8314\n",
      "b'wonder'            0.8314\n",
      "b'stop'              0.8314\n",
      "\n",
      "TOKEN                P(Water|token)\n",
      "b'bottled'           0.9059\n",
      "b'gallon'            0.8307\n",
      "b'jugs'              0.7970\n",
      "b'water'             0.7873\n",
      "b'gallons'           0.7266\n",
      "b'feet'              0.6625\n",
      "b'spring'            0.6625\n",
      "b'flood'             0.6625\n",
      "b'parks'             0.6625\n",
      "b'pallets'           0.6625\n",
      "\n"
     ]
    }
   ],
   "source": [
    "lib.most_discriminative(tweets, token_probs, prior_probs)"
   ]
  },
  {
   "cell_type": "markdown",
   "metadata": {},
   "source": [
    "These five lists show you which words are most predictive of the five categories. For example, the word _bottled_ is a very strong indicator that the tweet is about water or the word _canned_ is a very strong indicator that the tweet is about food.\n",
    "\n",
    "Many of you used several of these words in your rule-based classifiers in week 1. It's reassuring (and exciting!) to see that the Naive Bayes classifier learned that these words are good indicators of the categories as well.\n",
    "\n",
    "\n",
    "### Confusion matrix\n",
    "\n",
    "Another useful type of visualization is a so-called confusion matrix. A confusion matrix shows you for each true category _c_ how many of the tweets in _c_ were classified into the five different categories. (In this way it tells you which categories are \"confused\" for others by the classifier)."
   ]
  },
  {
   "cell_type": "code",
   "execution_count": 102,
   "metadata": {},
   "outputs": [
    {
     "data": {
      "text/html": [
       "<table border=\"1\" class=\"dataframe\">\n",
       "  <thead>\n",
       "    <tr style=\"text-align: right;\">\n",
       "      <th></th>\n",
       "      <th>Energy</th>\n",
       "      <th>Food</th>\n",
       "      <th>Medical</th>\n",
       "      <th>None</th>\n",
       "      <th>Water</th>\n",
       "    </tr>\n",
       "  </thead>\n",
       "  <tbody>\n",
       "    <tr>\n",
       "      <th>Energy</th>\n",
       "      <td>31</td>\n",
       "      <td>5</td>\n",
       "      <td>0</td>\n",
       "      <td>4</td>\n",
       "      <td>0</td>\n",
       "    </tr>\n",
       "    <tr>\n",
       "      <th>Food</th>\n",
       "      <td>4</td>\n",
       "      <td>117</td>\n",
       "      <td>1</td>\n",
       "      <td>6</td>\n",
       "      <td>1</td>\n",
       "    </tr>\n",
       "    <tr>\n",
       "      <th>Medical</th>\n",
       "      <td>3</td>\n",
       "      <td>4</td>\n",
       "      <td>6</td>\n",
       "      <td>0</td>\n",
       "      <td>0</td>\n",
       "    </tr>\n",
       "    <tr>\n",
       "      <th>None</th>\n",
       "      <td>18</td>\n",
       "      <td>3</td>\n",
       "      <td>1</td>\n",
       "      <td>57</td>\n",
       "      <td>0</td>\n",
       "    </tr>\n",
       "    <tr>\n",
       "      <th>Water</th>\n",
       "      <td>1</td>\n",
       "      <td>8</td>\n",
       "      <td>0</td>\n",
       "      <td>1</td>\n",
       "      <td>10</td>\n",
       "    </tr>\n",
       "  </tbody>\n",
       "</table>"
      ],
      "text/plain": [
       "<IPython.core.display.HTML object>"
      ]
     },
     "metadata": {},
     "output_type": "display_data"
    },
    {
     "data": {
      "text/plain": [
       "array([[198,  32,   0,  25,   0],\n",
       "       [  7, 232,   1,  11,   1],\n",
       "       [ 59,  78, 118,   0,   0],\n",
       "       [ 58,   9,   3, 184,   0],\n",
       "       [ 12, 102,   0,  12, 128]], dtype=int32)"
      ]
     },
     "execution_count": 102,
     "metadata": {},
     "output_type": "execute_result"
    },
    {
     "data": {
      "image/png": "[encoded data removed]",
      "text/plain": [
       "<Figure size 432x288 with 1 Axes>"
      ]
     },
     "metadata": {},
     "output_type": "display_data"
    }
   ],
   "source": [
    "lib.show_confusion_matrix(predictions)"
   ]
  },
  {
   "cell_type": "markdown",
   "metadata": {},
   "source": [
    "In the matrix, the **rows** correspond to the **true category** and the **columns** correspond to the **predicted category**.\n",
    "\n",
    "For example, this matrix shows you that of all the 79 tweets in the category _None_, 13 were incorrectly classified as _Energy_, 3 as _Food_, and 1 as _Medical_. 62 of them were actually correctly classified as _None_.\n",
    "\n",
    "### Visualizing individual tweets\n",
    "\n",
    "It can also be really useful to visualize the probabilities of each token in an individual tweet. This can help you understand why a classifier made a correct or wrong prediction. We've implemented a visualization for you so that you can use to inspect how the classifier works on individual tweets."
   ]
  },
  {
   "cell_type": "code",
   "execution_count": 103,
   "metadata": {},
   "outputs": [
    {
     "data": {
      "text/html": [
       "\n",
       "    <div id=\"viz-overlay\" style=\"display:none;position:absolute;width:250px;height:110px;border: 1px solid #000; padding:8px;  background: #eee;\">\n",
       "\t<p>\n",
       "       <span style=\"color:orange;\">P(<span class=\"viz-token-placeholder\"></span> | food) = <span id=\"viz-p-food\"></span></span><br>\n",
       "\t   <span style=\"color:blue;\">P(<span class=\"viz-token-placeholder\"></span> | water) = <span id=\"viz-p-water\"></span><br>\n",
       "\t   <span style=\"color:green;\">P(<span class=\"viz-token-placeholder\"></span> | medical) = <span id=\"viz-p-medical\"></span><br>\n",
       "\t   <span style=\"color:red;\">P(<span class=\"viz-token-placeholder\"></span> | energy) = <span id=\"viz-p-energy\"></span><br>\n",
       "\t   <span style=\"color:gray;\">P(<span class=\"viz-token-placeholder\"></span> | none) = <span id=\"viz-p-none\"></span></p>\n",
       "    </p>\n",
       "    </div>\n",
       "\n",
       "    <div id=\"viz-tweet\" style=\"padding: 190px 0 0;\">\n",
       "    <span style=\"color: gray\" class=\"viz-token\" data-food=\"0.000000\" data-none=\"0.000000\" data-medical=\"0.000000\" data-energy=\"0.000000\" data-water=\"0.000000\">shoutouts</span> <span style=\"color: orange\" class=\"viz-token\" data-food=\"0.410985\" data-none=\"0.233010\" data-medical=\"0.409091\" data-energy=\"0.326087\" data-water=\"0.316832\">to</span> <span style=\"color: gray\" class=\"viz-token\" data-food=\"0.140152\" data-none=\"0.404531\" data-medical=\"0.204545\" data-energy=\"0.282609\" data-water=\"0.158416\">the</span> <span style=\"color: gray\" class=\"viz-token\" data-food=\"0.000000\" data-none=\"0.000000\" data-medical=\"0.000000\" data-energy=\"0.000000\" data-water=\"0.000000\">bike/moped</span> <span style=\"color: orange\" class=\"viz-token\" data-food=\"0.013258\" data-none=\"0.000000\" data-medical=\"0.000000\" data-energy=\"0.000000\" data-water=\"0.000000\">delivery</span> <span style=\"color: red\" class=\"viz-token\" data-food=\"0.018939\" data-none=\"0.000000\" data-medical=\"0.000000\" data-energy=\"0.021739\" data-water=\"0.009901\">men</span> <span style=\"color: orange\" class=\"viz-token\" data-food=\"0.081439\" data-none=\"0.064725\" data-medical=\"0.022727\" data-energy=\"0.079710\" data-water=\"0.029703\">that</span> <span style=\"color: red\" class=\"viz-token\" data-food=\"0.003788\" data-none=\"0.012945\" data-medical=\"0.000000\" data-energy=\"0.021739\" data-water=\"0.009901\">were</span> <span style=\"color: gray\" class=\"viz-token\" data-food=\"0.000000\" data-none=\"0.000000\" data-medical=\"0.000000\" data-energy=\"0.000000\" data-water=\"0.000000\">forced</span> <span style=\"color: orange\" class=\"viz-token\" data-food=\"0.410985\" data-none=\"0.233010\" data-medical=\"0.409091\" data-energy=\"0.326087\" data-water=\"0.316832\">to</span> <span style=\"color: gray\" class=\"viz-token\" data-food=\"0.000000\" data-none=\"0.000000\" data-medical=\"0.000000\" data-energy=\"0.000000\" data-water=\"0.000000\">brave</span> <span style=\"color: gray\" class=\"viz-token\" data-food=\"0.140152\" data-none=\"0.404531\" data-medical=\"0.204545\" data-energy=\"0.282609\" data-water=\"0.158416\">the</span> <span style=\"color: gray\" class=\"viz-token\" data-food=\"0.011364\" data-none=\"0.161812\" data-medical=\"0.022727\" data-energy=\"0.072464\" data-water=\"0.000000\">storm</span> <span style=\"color: green\" class=\"viz-token\" data-food=\"0.032197\" data-none=\"0.029126\" data-medical=\"0.068182\" data-energy=\"0.036232\" data-water=\"0.039604\">by</span> <span style=\"color: gray\" class=\"viz-token\" data-food=\"0.140152\" data-none=\"0.404531\" data-medical=\"0.204545\" data-energy=\"0.282609\" data-water=\"0.158416\">the</span> <span style=\"color: gray\" class=\"viz-token\" data-food=\"0.000000\" data-none=\"0.000000\" data-medical=\"0.000000\" data-energy=\"0.000000\" data-water=\"0.000000\">lazy</span> <span style=\"color: orange\" class=\"viz-token\" data-food=\"0.054924\" data-none=\"0.032362\" data-medical=\"0.022727\" data-energy=\"0.043478\" data-water=\"0.039604\">people</span> <span style=\"color: orange\" class=\"viz-token\" data-food=\"0.054924\" data-none=\"0.019417\" data-medical=\"0.045455\" data-energy=\"0.021739\" data-water=\"0.019802\">who</span> <span style=\"color: blue\" class=\"viz-token\" data-food=\"0.009470\" data-none=\"0.000000\" data-medical=\"0.000000\" data-energy=\"0.000000\" data-water=\"0.009901\">wanted</span> <span style=\"color: gray\" class=\"viz-token\" data-food=\"0.000000\" data-none=\"0.003236\" data-medical=\"0.000000\" data-energy=\"0.000000\" data-water=\"0.000000\">comfort</span> <span style=\"color: orange\" class=\"viz-token\" data-food=\"0.708333\" data-none=\"0.213592\" data-medical=\"0.000000\" data-energy=\"0.021739\" data-water=\"0.049505\">food</span> <span style=\"color: gray\" class=\"viz-token\" data-food=\"0.005682\" data-none=\"0.029126\" data-medical=\"0.022727\" data-energy=\"0.000000\" data-water=\"0.000000\">during</span> <span style=\"color: gray\" class=\"viz-token\" data-food=\"0.140152\" data-none=\"0.404531\" data-medical=\"0.204545\" data-energy=\"0.282609\" data-water=\"0.158416\">the</span> <span style=\"color: gray\" class=\"viz-token\" data-food=\"0.011364\" data-none=\"0.161812\" data-medical=\"0.022727\" data-energy=\"0.072464\" data-water=\"0.000000\">storm</span> <span style=\"color: orange\" class=\"viz-token\" data-food=\"0.596591\" data-none=\"0.453074\" data-medical=\"0.477273\" data-energy=\"0.543478\" data-water=\"0.544554\">.</span> <p><strong>Predicted category: </strong> <span style=\"color: gray\"> None</span><br><strong>True category: </strong> <span style=\"color: gray\"> None</span></p>\n",
       "    </div>\n",
       "     <script type=\"text/javascript\">\n",
       "\t$(document).ready(function() {\n",
       "\t\t$(\"span.viz-token\").mouseover(function() {\n",
       "\t\t\t$(\"span.viz-token\").css({\"font-weight\": \"normal\"});\n",
       "\t\t\t$(this).css({\"font-weight\": \"bold\"});\n",
       "\t\t\t$(\"span.viz-token-placeholder\").text($(this).text());\n",
       "\t\t\t$(\"#viz-p-food\").text($(this).data(\"food\"));\n",
       "\t\t\t$(\"#viz-p-water\").text($(this).data(\"water\"));\n",
       "\t\t\t$(\"#viz-p-medical\").text($(this).data(\"medical\"));\n",
       "\t\t\t$(\"#viz-p-energy\").text($(this).data(\"energy\"));\n",
       "\t\t\t$(\"#viz-p-none\").text($(this).data(\"none\"));\n",
       "\t\t\t$(\"#viz-overlay\").show();\n",
       "\t\t\t$(\"#viz-overlay\").offset({left:$(this).offset().left-110+$(this).width()/2, top:$(this).offset().top - 140});\n",
       "\t\t});\n",
       "\t});\n",
       "    </script>\n",
       "\n",
       "    "
      ],
      "text/plain": [
       "<IPython.core.display.HTML object>"
      ]
     },
     "metadata": {},
     "output_type": "display_data"
    }
   ],
   "source": [
    "# The following code visualizes a random tweet from the test data. \n",
    "# Hover your mouse over the words!\n",
    "\n",
    "random_tweet = random.choice(test_tweets)\n",
    "lib.visualize_tweet(random_tweet, prior_probs, token_probs)"
   ]
  },
  {
   "cell_type": "markdown",
   "metadata": {},
   "source": [
    "The color of each word tells you for which category $P(\\text{token} \\mid \\text{category})$ is the highest. When you move the mouse over a word, it shows you the actual values of $P(\\text{token} \\mid \\text{category})$ for each category that the classifier uses to make its predictions.\n",
    "\n",
    "You can also have the classifier make a prediction on your own tweets. Change the text in `my_tweet` below and run the cell below to see what the classifier would predict."
   ]
  },
  {
   "cell_type": "code",
   "execution_count": 104,
   "metadata": {},
   "outputs": [
    {
     "data": {
      "text/html": [
       "\n",
       "    <div id=\"viz-overlay\" style=\"display:none;position:absolute;width:250px;height:110px;border: 1px solid #000; padding:8px;  background: #eee;\">\n",
       "\t<p>\n",
       "       <span style=\"color:orange;\">P(<span class=\"viz-token-placeholder\"></span> | food) = <span id=\"viz-p-food\"></span></span><br>\n",
       "\t   <span style=\"color:blue;\">P(<span class=\"viz-token-placeholder\"></span> | water) = <span id=\"viz-p-water\"></span><br>\n",
       "\t   <span style=\"color:green;\">P(<span class=\"viz-token-placeholder\"></span> | medical) = <span id=\"viz-p-medical\"></span><br>\n",
       "\t   <span style=\"color:red;\">P(<span class=\"viz-token-placeholder\"></span> | energy) = <span id=\"viz-p-energy\"></span><br>\n",
       "\t   <span style=\"color:gray;\">P(<span class=\"viz-token-placeholder\"></span> | none) = <span id=\"viz-p-none\"></span></p>\n",
       "    </p>\n",
       "    </div>\n",
       "\n",
       "    <div id=\"viz-tweet\" style=\"padding: 190px 0 0;\">\n",
       "    <span style=\"color: orange\" class=\"viz-token\" data-food=\"0.409091\" data-none=\"0.262136\" data-medical=\"0.272727\" data-energy=\"0.260870\" data-water=\"0.306931\">i</span> <span style=\"color: gray\" class=\"viz-token\" data-food=\"0.000000\" data-none=\"0.000000\" data-medical=\"0.000000\" data-energy=\"0.000000\" data-water=\"0.000000\">urgently</span> <span style=\"color: red\" class=\"viz-token\" data-food=\"0.130682\" data-none=\"0.025890\" data-medical=\"0.136364\" data-energy=\"0.181159\" data-water=\"0.069307\">need</span> <span style=\"color: orange\" class=\"viz-token\" data-food=\"0.094697\" data-none=\"0.016181\" data-medical=\"0.068182\" data-energy=\"0.050725\" data-water=\"0.049505\">some</span> <span style=\"color: blue\" class=\"viz-token\" data-food=\"0.001894\" data-none=\"0.003236\" data-medical=\"0.000000\" data-energy=\"0.000000\" data-water=\"0.207921\">bottled</span> <span style=\"color: blue\" class=\"viz-token\" data-food=\"0.017045\" data-none=\"0.035599\" data-medical=\"0.000000\" data-energy=\"0.028986\" data-water=\"0.881188\">water</span> <span style=\"color: orange\" class=\"viz-token\" data-food=\"0.596591\" data-none=\"0.453074\" data-medical=\"0.477273\" data-energy=\"0.543478\" data-water=\"0.544554\">.</span> <p><strong>Predicted category: </strong> <span style=\"color: blue\"> Water</span><br><strong>True category: </strong> <span style=\"color: black\"> ?</span></p>\n",
       "    </div>\n",
       "     <script type=\"text/javascript\">\n",
       "\t$(document).ready(function() {\n",
       "\t\t$(\"span.viz-token\").mouseover(function() {\n",
       "\t\t\t$(\"span.viz-token\").css({\"font-weight\": \"normal\"});\n",
       "\t\t\t$(this).css({\"font-weight\": \"bold\"});\n",
       "\t\t\t$(\"span.viz-token-placeholder\").text($(this).text());\n",
       "\t\t\t$(\"#viz-p-food\").text($(this).data(\"food\"));\n",
       "\t\t\t$(\"#viz-p-water\").text($(this).data(\"water\"));\n",
       "\t\t\t$(\"#viz-p-medical\").text($(this).data(\"medical\"));\n",
       "\t\t\t$(\"#viz-p-energy\").text($(this).data(\"energy\"));\n",
       "\t\t\t$(\"#viz-p-none\").text($(this).data(\"none\"));\n",
       "\t\t\t$(\"#viz-overlay\").show();\n",
       "\t\t\t$(\"#viz-overlay\").offset({left:$(this).offset().left-110+$(this).width()/2, top:$(this).offset().top - 140});\n",
       "\t\t});\n",
       "\t});\n",
       "    </script>\n",
       "\n",
       "    "
      ],
      "text/plain": [
       "<IPython.core.display.HTML object>"
      ]
     },
     "metadata": {},
     "output_type": "display_data"
    }
   ],
   "source": [
    "my_tweet = \"I urgently need some bottled water.\"\n",
    "\n",
    "lib.visualize_tweet(lib.Tweet(my_tweet, \"?\", \"\"), prior_probs, token_probs)"
   ]
  },
  {
   "cell_type": "markdown",
   "metadata": {},
   "source": [
    "## More plots\n",
    "Next let's generate some plots to better understand our data and to create some material for our presentation ;)"
   ]
  },
  {
   "cell_type": "code",
   "execution_count": 105,
   "metadata": {},
   "outputs": [
    {
     "data": {
      "image/png": "[encoded data removed]",
      "text/plain": [
       "<Figure size 432x288 with 1 Axes>"
      ]
     },
     "metadata": {},
     "output_type": "display_data"
    }
   ],
   "source": [
    "# Generate a pie chart for class distribution\n",
    "sandy_tweets = tweets+test_tweets\n",
    "lib.class_pie_chart(sandy_tweets)"
   ]
  },
  {
   "cell_type": "markdown",
   "metadata": {},
   "source": [
    "Q: what can you say about our class distribution?"
   ]
  },
  {
   "cell_type": "code",
   "execution_count": 106,
   "metadata": {},
   "outputs": [
    {
     "data": {
      "image/png": "[encoded data removed]",
      "text/plain": [
       "<Figure size 432x288 with 1 Axes>"
      ]
     },
     "metadata": {},
     "output_type": "display_data"
    }
   ],
   "source": [
    "# Draw a pie chart for performance metrics: precision, recall, f1\n",
    "lib.metric_bar_chart(labels, precisions, recalls, f1s)"
   ]
  },
  {
   "cell_type": "markdown",
   "metadata": {},
   "source": [
    "## Using historical data\n",
    "\n",
    "A lot of the times, the most effective way to improve a machine learning system is to get more data, which can often be difficult or even infeasible.  \n",
    "Fortunately for us though, since Hurricane Sandy happens two years later than the Haiti earthquake, we can use the data from the Haiti earthquake to improve the performance on Hurricane Sandy. Let's try it out:"
   ]
  },
  {
   "cell_type": "code",
   "execution_count": 132,
   "metadata": {},
   "outputs": [
    {
     "name": "stdout",
     "output_type": "stream",
     "text": [
      "Energy\n",
      "Precision:  60.0\n",
      "Recall:  67.5\n",
      "F1:  63.529411764705884\n",
      "\n",
      "Food\n",
      "Precision:  84.39716312056737\n",
      "Recall:  92.24806201550388\n",
      "F1:  88.14814814814815\n",
      "\n",
      "Medical\n",
      "Precision:  75.0\n",
      "Recall:  46.15384615384615\n",
      "F1:  57.14285714285714\n",
      "\n",
      "None\n",
      "Precision:  82.66666666666667\n",
      "Recall:  78.48101265822785\n",
      "F1:  80.51948051948052\n",
      "\n",
      "Water\n",
      "Precision:  83.33333333333333\n",
      "Recall:  50.0\n",
      "F1:  62.5\n",
      "\n",
      "Average F1:  70.36797951503834\n",
      "\n",
      "Energy\n",
      "Precision:  35.35353535353536\n",
      "Recall:  87.5\n",
      "F1:  50.35971223021583\n",
      "\n",
      "Food\n",
      "Precision:  89.25619834710744\n",
      "Recall:  83.72093023255815\n",
      "F1:  86.4\n",
      "\n",
      "Medical\n",
      "Precision:  100.0\n",
      "Recall:  61.53846153846154\n",
      "F1:  76.19047619047619\n",
      "\n",
      "None\n",
      "Precision:  94.11764705882354\n",
      "Recall:  40.50632911392405\n",
      "F1:  56.63716814159293\n",
      "\n",
      "Water\n",
      "Precision:  73.6842105263158\n",
      "Recall:  70.0\n",
      "F1:  71.79487179487181\n",
      "\n",
      "Average F1:  68.27644567143136\n",
      "\n",
      "Comparing the performance in the two cases:\n",
      "    Energy: alone:63.529411764705884 / combined:50.35971223021583\n",
      "    Food: alone:88.14814814814815 / combined:86.4\n",
      "    Medical: alone:57.14285714285714 / combined:76.19047619047619\n",
      "    None: alone:80.51948051948052 / combined:56.63716814159293\n",
      "    Water: alone:62.5 / combined:71.79487179487181\n",
      "Avg: alone:70.36797951503834 / combined:68.27644567143136\n"
     ]
    }
   ],
   "source": [
    "# Sandy alone\n",
    "sandy_tweets, sandy_test_tweets = lib.read_data()\n",
    "tweets = sandy_tweets\n",
    "test_tweets = sandy_test_tweets\n",
    "prior_probs, token_probs = lib.learn_nb(tweets)\n",
    "predictions = [(tweet, lib.classify_nb(tweet, prior_probs, token_probs)) for tweet in test_tweets]\n",
    "_, _, _, sandy_f1s = lib.evaluate(predictions, has_return=True)\n",
    "print()\n",
    "\n",
    "# Augment the training set with historical data from Haiti\n",
    "tweets = haiti_tweets + haiti_test_tweets + sandy_tweets\n",
    "# tweets = [tweet for tweet in haiti_tweets if tweet.category in ['Energy', 'Medical', 'Water']] + [tweet for tweet in haiti_test_tweets if tweet.category in ['Energy', 'Medical', 'Water']] + sandy_tweets\n",
    "test_tweets = sandy_test_tweets\n",
    "prior_probs, token_probs = lib.learn_nb(tweets)\n",
    "predictions = [(tweet, lib.classify_nb(tweet, prior_probs, token_probs)) for tweet in test_tweets]\n",
    "_, _, _, combined_f1s = lib.evaluate(predictions, has_return=True)\n",
    "print()\n",
    "\n",
    "print(\"Comparing the performance in the two cases:\")\n",
    "labels = ['Energy', 'Food', 'Medical', 'None', 'Water']\n",
    "acc_f1_alone = 0\n",
    "acc_f1_combined = 0\n",
    "for (label, alone, combined) in zip(labels, sandy_f1s, combined_f1s):\n",
    "    print('    {}: alone:{} / combined:{}'.format(label, alone, combined))\n",
    "    acc_f1_alone += alone\n",
    "    acc_f1_combined += combined\n",
    "print('Avg: alone:{} / combined:{}'.format(acc_f1_alone/5, acc_f1_combined/5))"
   ]
  },
  {
   "cell_type": "markdown",
   "metadata": {},
   "source": [
    "Q: Does adding more data help with the performance? Why or why not?"
   ]
  },
  {
   "cell_type": "markdown",
   "metadata": {},
   "source": [
    "Let's try another way of adding in historical data."
   ]
  },
  {
   "cell_type": "code",
   "execution_count": 134,
   "metadata": {
    "scrolled": true
   },
   "outputs": [
    {
     "name": "stdout",
     "output_type": "stream",
     "text": [
      "Energy\n",
      "Precision:  60.0\n",
      "Recall:  67.5\n",
      "F1:  63.529411764705884\n",
      "\n",
      "Food\n",
      "Precision:  84.39716312056737\n",
      "Recall:  92.24806201550388\n",
      "F1:  88.14814814814815\n",
      "\n",
      "Medical\n",
      "Precision:  75.0\n",
      "Recall:  46.15384615384615\n",
      "F1:  57.14285714285714\n",
      "\n",
      "None\n",
      "Precision:  82.66666666666667\n",
      "Recall:  78.48101265822785\n",
      "F1:  80.51948051948052\n",
      "\n",
      "Water\n",
      "Precision:  83.33333333333333\n",
      "Recall:  50.0\n",
      "F1:  62.5\n",
      "\n",
      "Average F1:  70.36797951503834\n",
      "\n",
      "********************************\n",
      "Adding 259 examples from Haiti\n",
      "********************************\n",
      "\n",
      "Energy\n",
      "Precision:  57.4468085106383\n",
      "Recall:  67.5\n",
      "F1:  62.06896551724138\n",
      "\n",
      "Food\n",
      "Precision:  84.89208633093526\n",
      "Recall:  91.47286821705427\n",
      "F1:  88.05970149253733\n",
      "\n",
      "Medical\n",
      "Precision:  75.0\n",
      "Recall:  46.15384615384615\n",
      "F1:  57.14285714285714\n",
      "\n",
      "None\n",
      "Precision:  83.56164383561644\n",
      "Recall:  77.21518987341773\n",
      "F1:  80.26315789473684\n",
      "\n",
      "Water\n",
      "Precision:  71.42857142857143\n",
      "Recall:  50.0\n",
      "F1:  58.82352941176471\n",
      "\n",
      "Average F1:  69.27164229182748\n",
      "\n",
      "Comparing the performance in the two cases:\n",
      "    Energy: alone:63.529411764705884 / combined:62.06896551724138\n",
      "    Food: alone:88.14814814814815 / combined:88.05970149253733\n",
      "    Medical: alone:57.14285714285714 / combined:57.14285714285714\n",
      "    None: alone:80.51948051948052 / combined:80.26315789473684\n",
      "    Water: alone:62.5 / combined:58.82352941176471\n",
      "Avg: alone:70.36797951503834 / combined:69.27164229182748\n"
     ]
    }
   ],
   "source": [
    "# Sandy alone\n",
    "sandy_tweets, sandy_test_tweets = lib.read_data()\n",
    "tweets = sandy_tweets\n",
    "test_tweets = sandy_test_tweets\n",
    "prior_probs, token_probs = lib.learn_nb(tweets)\n",
    "predictions = [(tweet, lib.classify_nb(tweet, prior_probs, token_probs)) for tweet in test_tweets]\n",
    "_, _, _, sandy_f1s = lib.evaluate(predictions, has_return=True)\n",
    "print()\n",
    "\n",
    "# Augment the training set with historical data from Haiti\n",
    "# following the category distribution in Sandy\n",
    "\n",
    "import random\n",
    "\n",
    "haiti_tweets, haiti_test_tweets = lib.read_haiti_data()\n",
    "all_haiti_tweets = haiti_tweets + haiti_test_tweets\n",
    "\n",
    "\n",
    "sandy_count = Counter([tweet.category for tweet in sandy_tweets])\n",
    "haiti_count = Counter([tweet.category for tweet in all_haiti_tweets])\n",
    "\n",
    "sample_size = len(all_haiti_tweets)\n",
    "sandy_priors = Counter()\n",
    "for category in sandy_count:\n",
    "    sandy_priors[category] = sandy_count[category] / len(sandy_tweets)\n",
    "    sample_size = min(sample_size, haiti_count[category] / sandy_priors[category])\n",
    "sample_size = int(sample_size)\n",
    "\n",
    "print(\"********************************\")\n",
    "print(\"Adding {:d} examples from Haiti\".format(sample_size))\n",
    "print(\"********************************\\n\")\n",
    "    \n",
    "    \n",
    "haiti_sampled = []\n",
    "for category in haiti_count:\n",
    "    haiti_examples = [tweet for tweet in all_haiti_tweets if tweet.category == category]\n",
    "    haiti_sampled += random.sample(haiti_examples, int(sample_size * sandy_priors[category]))\n",
    "    \n",
    "tweets = sandy_tweets + haiti_sampled\n",
    "test_tweets = sandy_test_tweets\n",
    "prior_probs, token_probs = lib.learn_nb(tweets)\n",
    "predictions = [(tweet, lib.classify_nb(tweet, prior_probs, token_probs)) for tweet in test_tweets]\n",
    "_, _, _, combined_f1s = lib.evaluate(predictions, has_return=True)\n",
    "print()\n",
    "\n",
    "print(\"Comparing the performance in the two cases:\")\n",
    "labels = ['Energy', 'Food', 'Medical', 'None', 'Water']\n",
    "acc_f1_alone = 0\n",
    "acc_f1_combined = 0\n",
    "for (label, alone, combined) in zip(labels, sandy_f1s, combined_f1s):\n",
    "    print('    {}: alone:{} / combined:{}'.format(label, alone, combined))\n",
    "    acc_f1_alone += alone\n",
    "    acc_f1_combined += combined\n",
    "print('Avg: alone:{} / combined:{}'.format(acc_f1_alone/5, acc_f1_combined/5))"
   ]
  },
  {
   "cell_type": "markdown",
   "metadata": {},
   "source": [
    "## Error analysis: Figuring out remaining errors\n",
    "\n",
    "Often, one wants to know in which scenarios a classifier makes mistakes. This can be really useful when you want to improve your classifier.\n",
    "\n",
    "In this exercise, try to break the Naive Bayes classifier. Use the cell above and try to come up with a tweet which should be classified as _Food_ but which is assigned a different category. Once you find such a tweet, use the visualization to figure out why the classifier gets this example wrong.\n",
    "\n",
    "Repeat this exercise for all the other categories. Based on your observations, do you have any ideas on how to further improve the classifier?\n"
   ]
  }
 ],
 "metadata": {
  "anaconda-cloud": {},
  "kernelspec": {
   "display_name": "Python 3",
   "language": "python",
   "name": "python3"
  },
  "language_info": {
   "codemirror_mode": {
    "name": "ipython",
    "version": 3
   },
   "file_extension": ".py",
   "mimetype": "text/x-python",
   "name": "python",
   "nbconvert_exporter": "python",
   "pygments_lexer": "ipython3",
   "version": "3.6.4"
  }
 },
 "nbformat": 4,
 "nbformat_minor": 1
}
