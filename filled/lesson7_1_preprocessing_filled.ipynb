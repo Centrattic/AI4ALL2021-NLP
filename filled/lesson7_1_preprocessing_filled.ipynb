{
 "cells": [
  {
   "cell_type": "code",
   "execution_count": 1,
   "metadata": {},
   "outputs": [],
   "source": [
    "# Run this every time you open the spreadsheet\n",
    "%load_ext autoreload\n",
    "%autoreload 2\n",
    "from collections import Counter\n",
    "import lib"
   ]
  },
  {
   "cell_type": "code",
   "execution_count": 2,
   "metadata": {},
   "outputs": [],
   "source": [
    "# Load the data.\n",
    "# This function returns tweets and test_tweets, both lists of tweets\n",
    "tweets, test_tweets = lib.read_data()"
   ]
  },
  {
   "cell_type": "markdown",
   "metadata": {},
   "source": [
    "In previous notebooks, we have implemented a Naive Bayes classifier on the data. Let's remind of ourselves about how well it performs:"
   ]
  },
  {
   "cell_type": "code",
   "execution_count": 3,
   "metadata": {},
   "outputs": [
    {
     "name": "stdout",
     "output_type": "stream",
     "text": [
      "Energy\n",
      "Precision:  54.054054054054056\n",
      "Recall:  50.0\n",
      "F1:  51.94805194805195\n",
      "\n",
      "Food\n",
      "Precision:  76.58227848101266\n",
      "Recall:  93.7984496124031\n",
      "F1:  84.3205574912892\n",
      "\n",
      "Medical\n",
      "Precision:  100.0\n",
      "Recall:  38.46153846153846\n",
      "F1:  55.55555555555556\n",
      "\n",
      "None\n",
      "Precision:  79.45205479452055\n",
      "Recall:  73.41772151898734\n",
      "F1:  76.3157894736842\n",
      "\n",
      "Water\n",
      "Precision:  75.0\n",
      "Recall:  30.0\n",
      "F1:  42.857142857142854\n",
      "\n",
      "Average F1:  62.19941946514475\n"
     ]
    }
   ],
   "source": [
    "categories = ['Energy', 'Food', 'Medical', 'Water', 'None']\n",
    "\n",
    "probs = {}\n",
    "for category in categories:\n",
    "    prior_prob, token_prob = lib.calc_probs_single(tweets, category)\n",
    "    probs[category] = (prior_prob, token_prob)\n",
    "\n",
    "# Get average F1 score for the test set\n",
    "predictions = [(tweet, lib.classify_nb_single(tweet, probs)) for tweet in test_tweets] # maps each test tweet to its predicted label\n",
    "lib.evaluate(predictions)"
   ]
  },
  {
   "cell_type": "markdown",
   "metadata": {},
   "source": [
    "Pretty good, right! :) We would like to furthur enhance the performance though. Some questions you may have:\n",
    "1. Are all words equally informative?\n",
    "2. Words such as \"*generator*\" and \"*generators*\" seem to convey the same meaning. Can we merge them?\n",
    "\n",
    "Next, we are going to play with three pre-processing steps to address these two questions."
   ]
  },
  {
   "cell_type": "markdown",
   "metadata": {},
   "source": [
    "### Stop words removal\n",
    "Stop words, or function words (as opposed to *content words*), refer to commonly used words that are usually non-informative, such as \"*the*\", \"*a*\", or \"*can*\".\n",
    "\n",
    "It is usually advantageous for the classifier to ignore these stop words, since they may add noises or cause numerical issues (e.g. underflow).\n",
    "\n",
    "The `nltk` package provides a list of stop words in English, and we can remove them from our data simply by using equality tests, which can be considered as a *rule-based classifier* that classifies whether a word is a stop word or not by looking up a blacklist (i.e. the list of stop words).\n",
    "\n",
    "Let's first look at some examples of stop words:"
   ]
  },
  {
   "cell_type": "code",
   "execution_count": 6,
   "metadata": {},
   "outputs": [
    {
     "name": "stdout",
     "output_type": "stream",
     "text": [
      "Here are some example stopwords:\n",
      "more\n",
      "during\n",
      "can\n",
      "at\n",
      "isn\n",
      "m\n",
      "shan\n",
      "s\n",
      "in\n",
      "an\n",
      "our\n"
     ]
    }
   ],
   "source": [
    "import nltk\n",
    "from nltk.corpus import stopwords\n",
    "\n",
    "eng_stopwords = set(stopwords.words('english'))\n",
    "# look at some stopwords\n",
    "print(\"Here are some example stopwords:\")\n",
    "for i,word in enumerate(eng_stopwords):\n",
    "    if i>10:\n",
    "        break\n",
    "    print(word)"
   ]
  },
  {
   "cell_type": "markdown",
   "metadata": {},
   "source": [
    "Here is an example of filtering a tweet using the stop word list:"
   ]
  },
  {
   "cell_type": "code",
   "execution_count": 9,
   "metadata": {},
   "outputs": [
    {
     "name": "stdout",
     "output_type": "stream",
     "text": [
      "all tokens:\n",
      " {'anymore', 'the', 'monday..', 'structural', 'finally', 'before', 'got', 'huge', 'this', 'storm..still', 'house', 'new', 'done..', 'damage', 'tree', 'we', 'is', 'off'} \n",
      "\n",
      "filtered_tokens:\n",
      " {'anymore', 'monday..', 'structural', 'finally', 'got', 'huge', 'storm..still', 'house', 'new', 'done..', 'damage', 'tree'} \n",
      "\n",
      "deleted_tokens:\n",
      " {'the', 'before', 'this', 'we', 'is', 'off'}\n"
     ]
    }
   ],
   "source": [
    "# No need to add code to this cell just run it! :)\n",
    "\n",
    "tweet = tweets[0]\n",
    "tokens = tweet.tokenSet\n",
    "print('all tokens:\\n', tokens, '\\n')\n",
    "\n",
    "filtered_tokens = set()\n",
    "deleted_tokens = set()\n",
    "\n",
    "for token in tweet.tokenSet:\n",
    "    if token in eng_stopwords:\n",
    "        deleted_tokens.add(token)\n",
    "    else:\n",
    "        filtered_tokens.add(token)\n",
    "\n",
    "print('filtered_tokens:\\n', filtered_tokens, '\\n')\n",
    "print('deleted_tokens:\\n', deleted_tokens)\n",
    "\n",
    "# Write your solutions to the following questions:\n",
    "# Q1: What is tokens?\n",
    "#\n",
    "\n",
    "# Q2: What is filtered_tokens?\n",
    "#\n",
    "\n",
    "# Q3: What is deleted_tokens?\n",
    "#"
   ]
  },
  {
   "cell_type": "markdown",
   "metadata": {},
   "source": [
    "And now let's see if removing stop words actually helps with the classification performance:"
   ]
  },
  {
   "cell_type": "code",
   "execution_count": 10,
   "metadata": {},
   "outputs": [
    {
     "name": "stdout",
     "output_type": "stream",
     "text": [
      "Energy\n",
      "Precision:  60.0\n",
      "Recall:  45.0\n",
      "F1:  51.42857142857143\n",
      "\n",
      "Food\n",
      "Precision:  78.57142857142857\n",
      "Recall:  93.7984496124031\n",
      "F1:  85.51236749116609\n",
      "\n",
      "Medical\n",
      "Precision:  100.0\n",
      "Recall:  46.15384615384615\n",
      "F1:  63.1578947368421\n",
      "\n",
      "None\n",
      "Precision:  77.5\n",
      "Recall:  78.48101265822785\n",
      "F1:  77.9874213836478\n",
      "\n",
      "Water\n",
      "Precision:  72.72727272727273\n",
      "Recall:  40.0\n",
      "F1:  51.612903225806456\n",
      "\n",
      "Average F1:  65.93983165320677\n"
     ]
    }
   ],
   "source": [
    "categories = ['Energy', 'Food', 'Medical', 'Water', 'None']\n",
    "\n",
    "probs = {}\n",
    "for category in categories:\n",
    "    prior_prob, token_prob = lib.calc_probs_single(tweets, category, eng_stopwords)\n",
    "    probs[category] = (prior_prob, token_prob)\n",
    "\n",
    "# Get average F1 score for the test set\n",
    "predictions = [(tweet, lib.classify_nb_single(tweet, probs, eng_stopwords)) for tweet in test_tweets] # maps each test tweet to its predicted label\n",
    "lib.evaluate(predictions)"
   ]
  },
  {
   "cell_type": "markdown",
   "metadata": {},
   "source": [
    "Compare these results with the previous ones. Does stop word removal help?"
   ]
  },
  {
   "cell_type": "markdown",
   "metadata": {},
   "source": [
    "## Stemming and Lemmatization\n",
    "\n",
    "Remember that the goal of both stemming and lemmatization is to reduce inflectional forms and sometimes derivationally related forms of a word to a common base form.\n",
    "\n",
    "A difference between stemming and lemmatization is that stemming looks at the current word only, while lemmatization also takes the context into consideration. Either way, this pre-processing step could be somewhat tedious. Luckily, the powerful `nltk` provides tools for both.\n",
    "\n",
    "### Stemming using the Porter stemmer\n",
    "*Porter's algorithm*, developed in the 1980s, is one of the most commonly used stemmers."
   ]
  },
  {
   "cell_type": "code",
   "execution_count": 11,
   "metadata": {
    "scrolled": true
   },
   "outputs": [
    {
     "name": "stdout",
     "output_type": "stream",
     "text": [
      "plurals:\n",
      "apples --> appl\n",
      "batteries --> batteri\n",
      "generators --> gener\n",
      "medicines --> medicin\n",
      "tests --> test\n",
      "feet --> feet\n",
      "\n",
      "verbs:\n",
      "studies --> studi\n",
      "thinks --> think\n",
      "goes --> goe\n",
      "played --> play\n",
      "bought --> bought\n",
      "went --> went\n",
      "ran --> ran\n",
      "drew --> drew\n"
     ]
    }
   ],
   "source": [
    "# No need to add code to this cell just run it! :)\n",
    "\n",
    "from nltk.stem.porter import *\n",
    "\n",
    "# Get the Porter stemmer\n",
    "stemmer = PorterStemmer()\n",
    "\n",
    "# Let's stemming on plurals\n",
    "plurals = ['apples', 'batteries', 'generators', 'medicines', 'tests', 'feet']\n",
    "print('plurals:')\n",
    "for plural in plurals:\n",
    "    print('{:s} --> {:s}'.format(plural, stemmer.stem(plural)))\n",
    "print()\n",
    "    \n",
    "# and variations of verbs\n",
    "verbs = ['studies', 'thinks', 'goes', 'played', 'bought', 'went', 'ran', 'drew', ]\n",
    "print('verbs:')\n",
    "for verb in verbs:\n",
    "    print('{:s} --> {:s}'.format(verb, stemmer.stem(verb)))"
   ]
  },
  {
   "cell_type": "markdown",
   "metadata": {},
   "source": [
    "You can add more words to `plurals` and see what the stemming results look like.  \n",
    "You may find that the results may look a bit mechanical. This is because the Porter's algorithm is essentially a sequential application of a set of rules. To get better looking results, let's try out a lemmatizer."
   ]
  },
  {
   "cell_type": "code",
   "execution_count": 14,
   "metadata": {},
   "outputs": [
    {
     "name": "stdout",
     "output_type": "stream",
     "text": [
      "plurals:\n",
      "apples --> apple\n",
      "batteries --> battery\n",
      "generators --> generator\n",
      "medicines --> medicine\n",
      "tests --> test\n",
      "feet --> foot\n",
      "\n",
      "verbs:\n",
      "studies --> study\n",
      "thinks --> think\n",
      "goes --> go\n",
      "played --> played\n",
      "bought --> bought\n",
      "went --> went\n",
      "ran --> ran\n",
      "drew --> drew\n"
     ]
    }
   ],
   "source": [
    "from nltk.stem.wordnet import WordNetLemmatizer\n",
    "\n",
    "# Get the lemmatizer\n",
    "lmtzr = WordNetLemmatizer()\n",
    "\n",
    "# Lemmatize the plurals\n",
    "print('plurals:')\n",
    "for plural in plurals:\n",
    "    print('{:s} --> {:s}'.format(plural, lmtzr.lemmatize(plural)))\n",
    "print()\n",
    "\n",
    "# Lemmatize the verbs\n",
    "print('verbs:')\n",
    "for verb in verbs:\n",
    "    print('{:s} --> {:s}'.format(verb, lmtzr.lemmatize(verb)))"
   ]
  },
  {
   "cell_type": "markdown",
   "metadata": {},
   "source": [
    "Not yet perfect, but much better, especially for the plurals. Whoray! :)"
   ]
  },
  {
   "cell_type": "markdown",
   "metadata": {},
   "source": [
    "As before, let's check whether stemming or lemmatization can help with our classification task."
   ]
  },
  {
   "cell_type": "code",
   "execution_count": 15,
   "metadata": {},
   "outputs": [
    {
     "name": "stdout",
     "output_type": "stream",
     "text": [
      "Energy\n",
      "Precision:  52.77777777777778\n",
      "Recall:  47.5\n",
      "F1:  50.0\n",
      "\n",
      "Food\n",
      "Precision:  76.92307692307692\n",
      "Recall:  93.02325581395348\n",
      "F1:  84.21052631578948\n",
      "\n",
      "Medical\n",
      "Precision:  100.0\n",
      "Recall:  46.15384615384615\n",
      "F1:  63.1578947368421\n",
      "\n",
      "None\n",
      "Precision:  79.45205479452055\n",
      "Recall:  73.41772151898734\n",
      "F1:  76.3157894736842\n",
      "\n",
      "Water\n",
      "Precision:  60.0\n",
      "Recall:  30.0\n",
      "F1:  40.0\n",
      "\n",
      "Average F1:  62.73684210526316\n"
     ]
    }
   ],
   "source": [
    "# Stemming\n",
    "probs = {}\n",
    "for category in categories:\n",
    "    prior_prob, token_prob = lib.calc_probs_single(tweets, category, stemmer=stemmer)\n",
    "    probs[category] = (prior_prob, token_prob)\n",
    "\n",
    "# Get average F1 score for the test set\n",
    "predictions = [(tweet, lib.classify_nb_single(tweet, probs, stemmer=stemmer)) for tweet in test_tweets] # maps each test tweet to its predicted label\n",
    "lib.evaluate(predictions)"
   ]
  },
  {
   "cell_type": "code",
   "execution_count": 16,
   "metadata": {},
   "outputs": [
    {
     "name": "stdout",
     "output_type": "stream",
     "text": [
      "Energy\n",
      "Precision:  54.285714285714285\n",
      "Recall:  47.5\n",
      "F1:  50.66666666666667\n",
      "\n",
      "Food\n",
      "Precision:  76.43312101910828\n",
      "Recall:  93.02325581395348\n",
      "F1:  83.91608391608392\n",
      "\n",
      "Medical\n",
      "Precision:  100.0\n",
      "Recall:  46.15384615384615\n",
      "F1:  63.1578947368421\n",
      "\n",
      "None\n",
      "Precision:  79.72972972972973\n",
      "Recall:  74.68354430379746\n",
      "F1:  77.12418300653594\n",
      "\n",
      "Water\n",
      "Precision:  66.66666666666667\n",
      "Recall:  30.0\n",
      "F1:  41.37931034482759\n",
      "\n",
      "Average F1:  63.24882773419124\n"
     ]
    }
   ],
   "source": [
    "# Lemmatization\n",
    "probs = {}\n",
    "for category in categories:\n",
    "    prior_prob, token_prob = lib.calc_probs_single(tweets, category, lmtzr=lmtzr)\n",
    "    probs[category] = (prior_prob, token_prob)\n",
    "\n",
    "# Get average F1 score for the test set\n",
    "predictions = [(tweet, lib.classify_nb_single(tweet, probs, lmtzr=lmtzr)) for tweet in test_tweets] # maps each test tweet to its predicted label\n",
    "lib.evaluate(predictions)"
   ]
  },
  {
   "cell_type": "markdown",
   "metadata": {},
   "source": [
    "There's some improvement, not bad! \n",
    "\n",
    "Now let's try using these tricks together, i.e. combining stop words removal with stemming or lemmatization. We don't need both stemming and lemmatization since they are two alternatives serving the same purpose."
   ]
  },
  {
   "cell_type": "code",
   "execution_count": 17,
   "metadata": {},
   "outputs": [
    {
     "name": "stdout",
     "output_type": "stream",
     "text": [
      "Energy\n",
      "Precision:  51.61290322580645\n",
      "Recall:  40.0\n",
      "F1:  45.07042253521127\n",
      "\n",
      "Food\n",
      "Precision:  77.41935483870968\n",
      "Recall:  93.02325581395348\n",
      "F1:  84.50704225352112\n",
      "\n",
      "Medical\n",
      "Precision:  100.0\n",
      "Recall:  46.15384615384615\n",
      "F1:  63.1578947368421\n",
      "\n",
      "None\n",
      "Precision:  76.62337662337663\n",
      "Recall:  74.68354430379746\n",
      "F1:  75.64102564102565\n",
      "\n",
      "Water\n",
      "Precision:  66.66666666666667\n",
      "Recall:  40.0\n",
      "F1:  50.0\n",
      "\n",
      "Average F1:  63.67527703332003\n"
     ]
    }
   ],
   "source": [
    "# Stop word removal + stemming\n",
    "probs = {}\n",
    "for category in categories:\n",
    "    prior_prob, token_prob = lib.calc_probs_single(tweets, category, stop_words=eng_stopwords, stemmer=stemmer)\n",
    "    probs[category] = (prior_prob, token_prob)\n",
    "\n",
    "# Get average F1 score for the test set\n",
    "predictions = [(tweet, lib.classify_nb_single(tweet, probs, stop_words=eng_stopwords, stemmer=stemmer)) for tweet in test_tweets] # maps each test tweet to its predicted label\n",
    "lib.evaluate(predictions)"
   ]
  },
  {
   "cell_type": "code",
   "execution_count": 18,
   "metadata": {},
   "outputs": [
    {
     "name": "stdout",
     "output_type": "stream",
     "text": [
      "Energy\n",
      "Precision:  55.88235294117647\n",
      "Recall:  47.5\n",
      "F1:  51.351351351351354\n",
      "\n",
      "Food\n",
      "Precision:  78.28947368421052\n",
      "Recall:  92.24806201550388\n",
      "F1:  84.69750889679715\n",
      "\n",
      "Medical\n",
      "Precision:  100.0\n",
      "Recall:  53.84615384615385\n",
      "F1:  70.0\n",
      "\n",
      "None\n",
      "Precision:  78.94736842105263\n",
      "Recall:  75.9493670886076\n",
      "F1:  77.41935483870968\n",
      "\n",
      "Water\n",
      "Precision:  66.66666666666667\n",
      "Recall:  40.0\n",
      "F1:  50.0\n",
      "\n",
      "Average F1:  66.69364301737164\n"
     ]
    }
   ],
   "source": [
    "# Stop word removal + Lemmatization\n",
    "probs = {}\n",
    "for category in categories:\n",
    "    prior_prob, token_prob = lib.calc_probs_single(tweets, category, stop_words=eng_stopwords, lmtzr=lmtzr)\n",
    "    probs[category] = (prior_prob, token_prob)\n",
    "\n",
    "# Get average F1 score for the test set\n",
    "predictions = [(tweet, lib.classify_nb_single(tweet, probs, stop_words=eng_stopwords, lmtzr=lmtzr)) for tweet in test_tweets] # maps each test tweet to its predicted label\n",
    "lib.evaluate(predictions)"
   ]
  },
  {
   "cell_type": "markdown",
   "metadata": {},
   "source": [
    "Does using several tricks together always work better using one of them alone? Why do you think is the case?"
   ]
  }
 ],
 "metadata": {
  "kernelspec": {
   "display_name": "Python 3",
   "language": "python",
   "name": "python3"
  },
  "language_info": {
   "codemirror_mode": {
    "name": "ipython",
    "version": 3
   },
   "file_extension": ".py",
   "mimetype": "text/x-python",
   "name": "python",
   "nbconvert_exporter": "python",
   "pygments_lexer": "ipython3",
   "version": "3.7.2"
  },
  "toc": {
   "base_numbering": 1,
   "nav_menu": {},
   "number_sections": true,
   "sideBar": true,
   "skip_h1_title": false,
   "title_cell": "Table of Contents",
   "title_sidebar": "Contents",
   "toc_cell": false,
   "toc_position": {},
   "toc_section_display": true,
   "toc_window_display": false
  }
 },
 "nbformat": 4,
 "nbformat_minor": 2
}
