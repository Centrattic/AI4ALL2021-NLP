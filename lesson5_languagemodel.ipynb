{
 "cells": [
  {
   "cell_type": "markdown",
   "metadata": {},
   "source": [
    "# Language Model Demo\n",
    "\n",
    "Based on this demo: http://nlpforhackers.io/language-models/\n",
    "\n",
    "### Import modules and data"
   ]
  },
  {
   "cell_type": "code",
   "execution_count": null,
   "metadata": {},
   "outputs": [],
   "source": [
    "import random\n",
    "from nltk import bigrams, trigrams\n",
    "from nltk.corpus import reuters, movie_reviews, shakespeare\n",
    "from nltk.tokenize import sent_tokenize, word_tokenize\n",
    "from collections import Counter, defaultdict"
   ]
  },
  {
   "cell_type": "code",
   "execution_count": null,
   "metadata": {},
   "outputs": [],
   "source": [
    "# Choose a corpus: reuters, movie_reviews or shakespeare\n",
    "corpus = \n",
    "\n",
    "if corpus==shakespeare:\n",
    "    shakespeare_text = ''.join([''.join(corpus.xml(fileid).itertext()) for fileid in corpus.fileids()])\n",
    "    words = word_tokenize(shakespeare_text)\n",
    "    sents = [word_tokenize(sent) for sent in sent_tokenize(shakespeare_text)]\n",
    "else:    \n",
    "    words = corpus.words()\n",
    "    sents = corpus.sents()\n",
    "\n",
    "# Lowercase everything\n",
    "words = [w.lower() for w in words] # List of words in corpus.\n",
    "sents = [[w.lower() for w in sent] for sent in sents] # List of sentences in corpus."
   ]
  },
  {
   "cell_type": "code",
   "execution_count": null,
   "metadata": {},
   "outputs": [],
   "source": [
    "# Print out a few words and sentences in words and sents! See if you can find a funny sentence.\n",
    "\n",
    "### YOUR CODE HERE ####\n",
    "\n",
    "### END CODE HERE ####\n",
    "\n",
    "# Print the total number of sentences.\n",
    "\n",
    "### YOUR CODE HERE ####\n",
    "total_sents =\n",
    "### END CODE HERE ####"
   ]
  },
  {
   "cell_type": "markdown",
   "metadata": {},
   "source": [
    "### Unigram language model\n",
    "\n",
    "In this section, we will construct a language model based on unigrams (words)."
   ]
  },
  {
   "cell_type": "code",
   "execution_count": null,
   "metadata": {},
   "outputs": [],
   "source": [
    "# Exercise 1. Fill in the blanks.\n",
    "\n",
    "\n",
    "# Step 1: Make a Counter from the list of words and call it \"unigram_counts\" (remember, this is easy to do!)\n",
    "\n",
    "### YOUR CODE HERE ####\n",
    "unigram_counts = \n",
    "### END CODE HERE ####\n",
    "\n",
    "\n",
    "# Step 2: Get the total number of words and assign it to \"total_count\"\n",
    "\n",
    "### YOUR CODE HERE ####\n",
    "total_count = \n",
    "\n",
    "### END CODE HERE ####\n",
    "print(\"Total number of words in corpus: \", total_count)\n",
    "\n",
    "# Print 10 most common words\n",
    "print(\"\\nTop 10 most common words: \")\n",
    "for (word, count) in unigram_counts.most_common(n=10):\n",
    "    print(word, count)"
   ]
  },
  {
   "cell_type": "code",
   "execution_count": null,
   "metadata": {},
   "outputs": [],
   "source": [
    "# Exercise 2. Fill in the blanks.\n",
    "\n",
    "# We have the Counter unigram_counts, which maps each word to its count.\n",
    "# We want to construct the Counter unigram_probs, which maps each word to its probability.\n",
    "\n",
    "\n",
    "# Step 1: create an empty Counter called unigram_probs.\n",
    "\n",
    "### YOUR CODE HERE ####\n",
    "unigram_probs = \n",
    "\n",
    "### END CODE HERE ####\n",
    "\n",
    "\n",
    "# Step 2: using a for-loop over unigram_counts, (this will iterate over the keys i.e. words)\n",
    "# calculate the appropriate fraction, and add the word -> fraction pair to unigram_probs.\n",
    "# Remember about integer division!\n",
    "\n",
    "### YOUR CODE HERE ####\n",
    "    \n",
    "### END CODE HERE ####\n",
    "\n",
    "\n",
    "# Check the probabilities add up to 1\n",
    "\n",
    "### YOUR CODE HERE ####\n",
    "probabiltity_sum = \n",
    "\n",
    "### END CODE HERE ####\n",
    "print(\"Probabilities sum to: \", probabiltity_sum)\n",
    "\n",
    "\n",
    "\n",
    "# Print 10 most common words\n",
    "print(\"\\nTop 10 most common words: \")\n",
    "for (word, count) in unigram_probs.most_common(n=10):\n",
    "    print(word, \"{:.5f}\".format(count))"
   ]
  },
  {
   "cell_type": "code",
   "execution_count": null,
   "metadata": {},
   "outputs": [],
   "source": [
    "# Print the probability of word \"the\", then try some other words.\n",
    "\n",
    "### YOUR CODE HERE ####\n",
    "\n",
    "### END CODE HERE ####\n"
   ]
  },
  {
   "cell_type": "code",
   "execution_count": null,
   "metadata": {},
   "outputs": [],
   "source": [
    "# No need to write code in this cell, just run it! :)\n",
    "# Generate 100 words of language using the unigram model.\n",
    "# Run this cell several times!\n",
    "\n",
    "text = [] # will be a list of generated words\n",
    "\n",
    "for _ in range(100):\n",
    "    r = random.random() # random number in [0,1]\n",
    "    \n",
    "    # Find the word whose \"interval\" contains r\n",
    "    accumulator = .0\n",
    "    for word, freq in unigram_probs.items():\n",
    "        accumulator += freq\n",
    "        if accumulator >= r:\n",
    "            text.append(word)\n",
    "            break\n",
    "\n",
    "print(' '.join(text))"
   ]
  },
  {
   "cell_type": "markdown",
   "metadata": {},
   "source": [
    "### Bigram language model\n",
    "\n",
    "In this section, we'll build a language model based on bigrams (pairs of words)."
   ]
  },
  {
   "cell_type": "code",
   "execution_count": null,
   "metadata": {},
   "outputs": [],
   "source": [
    "# No need to write code in this cell, just run it! :)\n",
    "# Count how often each bigram occurs.\n",
    "\n",
    "# bigram_counts is a dictionary that maps w1 to a dictionary mapping w2 to the count for (w1, w2)\n",
    "bigram_counts = defaultdict(lambda: Counter())\n",
    "\n",
    "for sentence in sents:\n",
    "    for w1, w2 in bigrams(sentence, pad_right=True, pad_left=True):\n",
    "        bigram_counts[w1][w2] += 1"
   ]
  },
  {
   "cell_type": "code",
   "execution_count": null,
   "metadata": {},
   "outputs": [],
   "source": [
    "# Print how often the bigram \"of the\" occurs. Try some other words following \"of\".\n",
    "print(bigram_counts['of']['the'])\n",
    "\n",
    "### YOUR CODE HERE ####\n",
    "\n",
    "### END CODE HERE ####"
   ]
  },
  {
   "cell_type": "code",
   "execution_count": null,
   "metadata": {},
   "outputs": [],
   "source": [
    "# No need to write code in this cell, just run it! :)\n",
    "# Transform the bigram counts to bigram probabilities\n",
    "\n",
    "bigram_probs = defaultdict(lambda: Counter())\n",
    "for w1 in bigram_counts:\n",
    "    total_count = float(sum(bigram_counts[w1].values()))\n",
    "    bigram_probs[w1] = Counter({w2: c/total_count for w2,c in bigram_counts[w1].items()})"
   ]
  },
  {
   "cell_type": "code",
   "execution_count": null,
   "metadata": {},
   "outputs": [],
   "source": [
    "# No need to write code in this cell, just run it! :)\n",
    "# Print the probability that 'the' follows 'of'\n",
    "print(bigram_probs['of']['the'])"
   ]
  },
  {
   "cell_type": "code",
   "execution_count": null,
   "metadata": {},
   "outputs": [],
   "source": [
    "# Print the top ten tokens most likely to follow 'fair', along with their probabilities.\n",
    "prob_dist = bigram_probs['fair']\n",
    "for word,prob in prob_dist.most_common(10):\n",
    "    print(word,\"{:.5f}\".format(prob))\n",
    "    \n",
    "# Try some other words.\n",
    "### YOUR CODE HERE ####\n",
    "word = \n",
    "\n",
    "### END CODE HERE ####\n",
    "print(word, prob_dist[word]) # This prints the probability of your word."
   ]
  },
  {
   "cell_type": "code",
   "execution_count": null,
   "metadata": {},
   "outputs": [],
   "source": [
    "# No need to write code in this cell, just run it! :)\n",
    "# Generate text with bigram model.\n",
    "# Run this cell several times!\n",
    "\n",
    "text = [None] # You can put your own starting word in here\n",
    "sentence_finished = False\n",
    "\n",
    "# Generate words until a None is generated\n",
    "while not sentence_finished:\n",
    "    r = random.random() # random number in [0,1]\n",
    "    accumulator = .0\n",
    "    latest_token = text[-1]\n",
    "    prob_dist = bigram_probs[latest_token] # prob dist of what token comes next\n",
    "    \n",
    "    # Find the word whose \"interval\" contains the random number r.\n",
    "    for word,p in prob_dist.items():\n",
    "        accumulator += p \n",
    "        if accumulator >= r:\n",
    "            text.append(word)\n",
    "            break\n",
    "\n",
    "    if text[-1] == None:\n",
    "        sentence_finished = True\n",
    "\n",
    "print(' '.join([t for t in text if t]))"
   ]
  },
  {
   "cell_type": "markdown",
   "metadata": {},
   "source": [
    "How does the bigram text compare to the unigram text?\n",
    "\n",
    "### Trigram language model\n",
    "\n",
    "In this section, we'll build a language model based on trigrams (triples of words)."
   ]
  },
  {
   "cell_type": "code",
   "execution_count": null,
   "metadata": {},
   "outputs": [],
   "source": [
    "# No need to write code in this cell, just run it! :)\n",
    "# Count how often each trigram occurs.\n",
    "\n",
    "# trigram_counts maps (w1, w2) to a dictionary mapping w3 to the count for (w1, w2, w3)\n",
    "trigram_counts = defaultdict(lambda: Counter())\n",
    "\n",
    "for sentence in sents:\n",
    "    for w1, w2, w3 in trigrams(sentence, pad_right=True, pad_left=True):\n",
    "        trigram_counts[(w1, w2)][w3] += 1"
   ]
  },
  {
   "cell_type": "code",
   "execution_count": null,
   "metadata": {},
   "outputs": [],
   "source": [
    "# Print how often the trigram \"I am not\" occurs. \n",
    "print(trigram_counts[('i', 'am')]['not'])\n",
    "\n",
    "# Try some other trigrams.\n",
    "### YOUR CODE HERE ####\n",
    "\n",
    "### END CODE HERE ####\n"
   ]
  },
  {
   "cell_type": "code",
   "execution_count": null,
   "metadata": {},
   "outputs": [],
   "source": [
    "# No need to write code in this cell, just run it! :)\n",
    "# Transform the trigram counts to trigram probabilities\n",
    "trigram_probs = defaultdict(lambda: Counter())\n",
    "for w1_w2 in trigram_counts:\n",
    "    total_count = float(sum(trigram_counts[w1_w2].values()))\n",
    "    trigram_probs[w1_w2] = Counter({w3: c/total_count for w3,c in trigram_counts[w1_w2].items()})"
   ]
  },
  {
   "cell_type": "code",
   "execution_count": null,
   "metadata": {},
   "outputs": [],
   "source": [
    "# Print the probability that 'not' follows 'i am'.\n",
    "print(trigram_probs[('i', 'am')]['not'])\n",
    "\n",
    "# Try some other combinations.\n",
    "### YOUR CODE HERE ####\n",
    "\n",
    "### END CODE HERE ####"
   ]
  },
  {
   "cell_type": "code",
   "execution_count": null,
   "metadata": {},
   "outputs": [],
   "source": [
    "# Print the top ten tokens most likely to follow 'i am', along with their probabilities. Try some other pairs of words.\n",
    "prob_dist = trigram_probs[('i', 'am')] # Modify this to try other pairs of words\n",
    "for word,prob in prob_dist.most_common(10):\n",
    "    print(word,\"{:.5f}\".format(prob))"
   ]
  },
  {
   "cell_type": "code",
   "execution_count": null,
   "metadata": {},
   "outputs": [],
   "source": [
    "# No need to write code in this cell, just run it! :)\n",
    "# Generate text with trigram model.\n",
    "# Run this cell several times!\n",
    "\n",
    "text = [None, None] # You can put your own first two words in here\n",
    "\n",
    "sentence_finished = False\n",
    "\n",
    "# Generate words until two consecutive Nones are generated\n",
    "while not sentence_finished:\n",
    "    r = random.random()\n",
    "    accumulator = .0\n",
    "    latest_bigram = tuple(text[-2:])\n",
    "    prob_dist = trigram_probs[latest_bigram] # prob dist of what token comes next\n",
    "    \n",
    "    for word,p in prob_dist.items():\n",
    "        accumulator += p \n",
    "        if accumulator >= r:\n",
    "            text.append(word)\n",
    "            break\n",
    "\n",
    "    if text[-2:] == [None, None]:\n",
    "        sentence_finished = True\n",
    "\n",
    "print(' '.join([t for t in text if t]))"
   ]
  },
  {
   "cell_type": "markdown",
   "metadata": {
    "collapsed": true
   },
   "source": [
    "How does the trigram text compare to the bigram text?\n",
    "\n",
    "## Extension exercise\n",
    "\n",
    "N-gram language models can encounter the *sparsity problem*, especially if the data is small.\n",
    "\n",
    "Suppose you train a trigram language model on a small amount of data (let's say the text of *The Hunger Games*), then use the language model to generate text.\n",
    "\n",
    "On each step, you take the last two generated words (e.g. \"may the\") and lookup the probability distribution of what word is most likely to come next. But if your training data is small, perhaps there is only one example of the bigram \"may the\" in the training data (e.g. \"may the odds be ever in your favor\" in *The Hunger Games*). In that case, the next word will be *odds* with probability 1. This means that your language model always says \"odds\" after saying \"may the\".\n",
    "\n",
    "1. Is the sparsity problem worse for unigram language models, bigram language models, trigram language models, or n-gram language models for n>3?\n",
    "2. How might you fix this problem? \n",
    "3. How might you fix this problem without access to more training data?\n",
    "\n",
    "Try altering either the bigram or the trigram language model with your solution to question 3."
   ]
  },
  {
   "cell_type": "markdown",
   "metadata": {},
   "source": [
    "# More Python Exercises"
   ]
  },
  {
   "cell_type": "markdown",
   "metadata": {},
   "source": [
    "## Summing"
   ]
  },
  {
   "cell_type": "markdown",
   "metadata": {},
   "source": [
    "**Exercise 1:** Sum\n",
    "\n",
    "Fill in function `sumFromMToN` that **uses a for loop** to sum numbers from m to n.\n",
    "\n",
    "Example sumFromMToN(5, 10) = 5+6+7+8+9+10"
   ]
  },
  {
   "cell_type": "code",
   "execution_count": null,
   "metadata": {},
   "outputs": [],
   "source": [
    "### YOUR CODE HERE ####\n",
    "def sumFromMToN(m, n):\n",
    "\n",
    "### END CODE HERE ####\n",
    "\n",
    "assert(sumFromMToN(5, 10) == 5+6+7+8+9+10)"
   ]
  },
  {
   "cell_type": "markdown",
   "metadata": {},
   "source": [
    "**Exercise 2:** Sum of Odds\n",
    "\n",
    "Fill in function `sumFromMToN` that **uses a for loop** to sum **odd** numbers from m to n.\n",
    "\n",
    "Hint: x % 2 returns 1 if x is odd, and 0 if x is even."
   ]
  },
  {
   "cell_type": "code",
   "execution_count": null,
   "metadata": {},
   "outputs": [],
   "source": [
    "### YOUR CODE HERE ####\n",
    "def sumOfOddsFromMToN(m, n):\n",
    "\n",
    "### END CODE HERE ####\n",
    "\n",
    "assert(sumOfOddsFromMToN(4, 10) == (5+7+9))"
   ]
  },
  {
   "cell_type": "markdown",
   "metadata": {},
   "source": [
    "**Exercise 3:** Sum of Squares of Odds\n",
    "\n",
    "Fill in function `sumOfSquaresOfOddsFromMToN` that **uses a for loop** to sum the **squares** of **odd** numbers from m to n."
   ]
  },
  {
   "cell_type": "code",
   "execution_count": null,
   "metadata": {},
   "outputs": [],
   "source": [
    "### YOUR CODE HERE ####\n",
    "def sumOfSquaresOfOddsFromMToN(m, n):\n",
    "\n",
    "### END CODE HERE ####\n",
    "\n",
    "assert(sumOfSquaresOfOddsFromMToN(4, 10) == (25+49+81))"
   ]
  },
  {
   "cell_type": "markdown",
   "metadata": {},
   "source": [
    "## Nested For Loops\n",
    "You can use for loops within for loops or **nested for loops** to iterate over two different values!"
   ]
  },
  {
   "cell_type": "markdown",
   "metadata": {},
   "source": [
    "_Example 1_\n",
    "\n",
    "Consider the code in the cell below. It prints out a grid of coordinate value in the form **(x, y)**. The variable **x** takes on the x values, and the variable y takes on the y values.\n",
    "\n",
    "Run the code in the cell below to see the coordinates. Understand what the nested for loop is doing!"
   ]
  },
  {
   "cell_type": "code",
   "execution_count": null,
   "metadata": {},
   "outputs": [],
   "source": [
    "# No need to write code in this cell, just run it! :)\n",
    "\n",
    "def printCoordinates(xMax, yMax):\n",
    "    for x in range(xMax+1): # The x-coordinates.\n",
    "        for y in range(yMax+1): # The y-coordinates.\n",
    "            print(\"(\", x, \",\", y, \")  \", end=\"\")\n",
    "        print()\n",
    "\n",
    "printCoordinates(4, 5)"
   ]
  },
  {
   "cell_type": "markdown",
   "metadata": {},
   "source": [
    "_Example 2_\n",
    "\n",
    "The cell below also uses nested for loops to print a shape. \n",
    "\n",
    "Run the code in the cell below to see the shape. Understand what the nested for loop is doing!"
   ]
  },
  {
   "cell_type": "code",
   "execution_count": null,
   "metadata": {},
   "outputs": [],
   "source": [
    "# No need to write code in this cell, just run it! :)\n",
    "\n",
    "def printStarRectangle(n):\n",
    "    # print an nxn rectangle of asterisks\n",
    "    for row in range(n):\n",
    "        for col in range(n):\n",
    "            print(\"*\", end=\"\") # Adding end=\"\" to a print statement makes it so you print on the same line.\n",
    "        print() # Print a new line.\n",
    "\n",
    "printStarRectangle(5)"
   ]
  },
  {
   "cell_type": "markdown",
   "metadata": {},
   "source": [
    "_Example 3_\n",
    "\n",
    "The following code also prints out a different shape. Before you run the following cell below, think about what shape the code will create with the nested for loop!"
   ]
  },
  {
   "cell_type": "code",
   "execution_count": null,
   "metadata": {},
   "outputs": [],
   "source": [
    "# No need to write code in this cell, just run it! :)\n",
    "\n",
    "def printMysteryStarShape(n):\n",
    "    for row in range(n):\n",
    "        for col in range(row):\n",
    "            print(\"*\", end=\" \")\n",
    "        print()\n",
    "\n",
    "printMysteryStarShape(5)"
   ]
  },
  {
   "cell_type": "markdown",
   "metadata": {},
   "source": [
    "**Exercise 4**: Triangle\n",
    "\n",
    "Fill the function `printTriangle` below to use **nested for loops** to print the following shape:\n",
    "```\n",
    "* \n",
    "* * \n",
    "* * * \n",
    "* * * * \n",
    "* * *\n",
    "* *\n",
    "*\n",
    "```\n",
    "\n",
    "Hint: To reverse a list, use `list(reversed(_))`. For example, if we have the list `x = [1,2,3]` then `list(reversed(x))` will return `[3, 2, 1]`."
   ]
  },
  {
   "cell_type": "code",
   "execution_count": null,
   "metadata": {},
   "outputs": [],
   "source": [
    "### YOUR CODE HERE ####\n",
    "def printTriangle(n):\n",
    "\n",
    "### END CODE HERE ####\n",
    "\n",
    "printTriangle(5)"
   ]
  },
  {
   "cell_type": "markdown",
   "metadata": {},
   "source": [
    "**Exercise 6:** Special Shape\n",
    "\n",
    "Fill in the function `printSpecialShape` that takes ina list `shape_list` and for each entry in `shape_list`, prints out that many `*` for the corresponding row. \n",
    "\n",
    "For example, if `shape_list = [1,3,7,5,1]`, then `printSpecialShape(shape_list)` will print out:\n",
    "```\n",
    "*\n",
    "* * *\n",
    "* * * * * * *\n",
    "* * * * *\n",
    "*\n",
    "```\n",
    "\n"
   ]
  },
  {
   "cell_type": "code",
   "execution_count": null,
   "metadata": {},
   "outputs": [],
   "source": [
    "### YOUR CODE HERE ####\n",
    "def printSpecialShape(shape_list):\n",
    "\n",
    "### END CODE HERE ####\n",
    "\n",
    "shape_list = [1,3,7,5,1]\n",
    "printSpecialShape(shape_list)"
   ]
  },
  {
   "cell_type": "markdown",
   "metadata": {},
   "source": [
    "## Gifts for Weasleys"
   ]
  },
  {
   "cell_type": "markdown",
   "metadata": {},
   "source": [
    "**Exercise 7:** Gifts for Weasleys\n",
    "\n",
    "Recall, a _dict_ collection of items in which each element can be accessed by a _key_. The _key_ is typically a string and the items can be of any data type, e.g., booleans, integers, strings. Each key can be used for only one item.\n",
    "\n",
    "You are shopping for presents for the Weasley family! You are given a _dict_ wishlist where the keys are **names** of people and values are the person's **gift wishlist**. \n",
    "\n",
    "Fill in the function `WeasleyGifts` that takes in the wishlist _dict_ and returns a list of the gifts that members of the Weasley family want."
   ]
  },
  {
   "cell_type": "code",
   "execution_count": null,
   "metadata": {},
   "outputs": [],
   "source": [
    "wishlist = {'Harry Potter': 'dragon',\n",
    "         'Ron Weasley': 'chocolate',\n",
    "         'Albus Dumbledore': 'socks',\n",
    "         'Ginny Weasley': 'wand', \n",
    "         'Percy Weasley': 'notebooks',\n",
    "         'Hermione Granger': 'time turner',\n",
    "         'Fred Weasley': 'toad',\n",
    "         'George Weasley': 'toad',\n",
    "         'Arthur Weasley': 'toad'}\n",
    "\n",
    "### YOUR CODE HERE ####\n",
    "def WeasleyGifts(wishlist):\n",
    "\n",
    "### END CODE HERE ####\n",
    "    \n",
    "assert(WeasleyGifts(wishlist) == ['chocolate', 'wand', 'notebooks', 'toad', 'toad', 'toad'])"
   ]
  },
  {
   "cell_type": "markdown",
   "metadata": {},
   "source": [
    "**Exercise 8:** Pay for Gifts\n",
    "\n",
    "Time to pay for the gifts for the Weasley Family! Fill in the function `shoppingCheckout` that takes in a list `shopping_list` that contains the items you want to buy and a dictionary `prices` where the keys are the **names of items** and the values are the **prices** and returns the total price of all the items in the list. Hint: use a for loop to iterate over the items in the shopping list."
   ]
  },
  {
   "cell_type": "code",
   "execution_count": null,
   "metadata": {},
   "outputs": [],
   "source": [
    "### YOUR CODE HERE ####\n",
    "def shoppingCheckout(shopping_list, prices):\n",
    "\n",
    "### END CODE HERE ####\n",
    "\n",
    "prices = {\"chocolate\": 5, \"wand\": 100.0, \"notebooks\": 15.75, \"toad\": 30, \"whoopie cushion\": 12.99,\n",
    "          \"philosopher's stone\": 999999999.99}\n",
    "gift_shopping_list = ['chocolate', 'wand', 'notebooks', 'toad', 'toad', 'toad']\n",
    "\n",
    "assert(shoppingCheckout(gift_shopping_list, prices) == 5 + 100 + 15.75 + 30 + 30 + 30)"
   ]
  },
  {
   "cell_type": "markdown",
   "metadata": {},
   "source": [
    "**Exercise 9:** Found a Coupon!\n",
    "\n",
    "Fortunately you just found a coupon that let's you save some money on some of the presents you want to buy! `coupon_dict` is a _dict_ where the keys are the **name of the item** and the values are the **percentage discount** for the item. For example if item 'pencil' is 30\\% off the value will be `0.3`.\n",
    "\n",
    "Fill in the function `checkoutWithCoupon` that takes in a list `shopping_list` containing the items you want to want by, a dict `prices` where keys are the **names of items** and values are the **prices**, and a dict `coupon_dict` described above, and computes the total price of all the items in `shopping_list` after applying the coupon."
   ]
  },
  {
   "cell_type": "code",
   "execution_count": null,
   "metadata": {},
   "outputs": [],
   "source": [
    "### YOUR CODE HERE ####\n",
    "def checkoutWithCoupon(shopping_list, prices, coupon_dict):\n",
    "\n",
    "### END CODE HERE ####\n",
    "\n",
    "coupon_dict = {\"chocolate\": 0.2, \"wand\": 0.1, \"notebooks\": 0.5, \"toad\": 0.3, 'whoopie cushion': 0.25}\n",
    "assert(checkoutWithCoupon(gift_shopping_list, prices, coupon_dict) == 5*0.8 + 100*0.9 + 15.75*0.5 + 30*0.7*3)"
   ]
  },
  {
   "cell_type": "markdown",
   "metadata": {},
   "source": [
    "**Exercise 10:** Count Inventory\n",
    "\n",
    "Now you are an employee at the wizard store! Someone comes in with a big ole list `shopping_list` list with items they want to buy. Before you can sell the items to them, you need to make sure that you have the items in the store. \n",
    "\n",
    "Fill in the function `getItems` where `shopping_list` is a list containing items the customer wants to buy, and `inventory` is a list containing all items the store has. If the store has multiples of an item, it will appear in `inventory` twice. Complete `getItems` so it returns a list of the items in `shopping_list` that are in `inventory`. If an item appears more times in `shopping_list` than in `inventory`, we will add that item the number of times it appears in `inventory` into our return list. For example, if `shopping_list` contains two toads, but the inventory only has one toad, we will only add one toad to our return list.\n",
    "\n",
    "Hint: Use counters!\n",
    "\n",
    "Hint: Use a nested for loop!"
   ]
  },
  {
   "cell_type": "code",
   "execution_count": null,
   "metadata": {},
   "outputs": [],
   "source": [
    "### YOUR CODE HERE ####\n",
    "def getItems(shopping_list, inventory):\n",
    "\n",
    "### END CODE HERE ####\n",
    "\n",
    "shopping_list = ['chocolate', 'wand', 'notebooks', 'toad', 'toad', 'toad']\n",
    "inventory = [\"chocolate\", 'toad', 'notebooks', 'toad']\n",
    "assert(getItems(shopping_list, inventory) == [\"chocolate\", \"notebooks\", \"toad\", \"toad\"])"
   ]
  }
 ],
 "metadata": {
  "anaconda-cloud": {},
  "kernelspec": {
   "display_name": "Python 3",
   "language": "python",
   "name": "python3"
  },
  "language_info": {
   "codemirror_mode": {
    "name": "ipython",
    "version": 3
   },
   "file_extension": ".py",
   "mimetype": "text/x-python",
   "name": "python",
   "nbconvert_exporter": "python",
   "pygments_lexer": "ipython3",
   "version": "3.7.2"
  },
  "toc": {
   "base_numbering": 1,
   "nav_menu": {},
   "number_sections": true,
   "sideBar": true,
   "skip_h1_title": false,
   "title_cell": "Table of Contents",
   "title_sidebar": "Contents",
   "toc_cell": false,
   "toc_position": {},
   "toc_section_display": true,
   "toc_window_display": false
  }
 },
 "nbformat": 4,
 "nbformat_minor": 2
}
