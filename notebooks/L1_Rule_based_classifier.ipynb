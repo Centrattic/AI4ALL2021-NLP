{
 "cells": [
  {
   "cell_type": "markdown",
   "metadata": {},
   "source": [
    "# Rule-based Classifier for Crisis Response"
   ]
  },
  {
   "cell_type": "markdown",
   "metadata": {},
   "source": [
    "Run the below cells every time you open the spreadsheet."
   ]
  },
  {
   "cell_type": "code",
   "execution_count": null,
   "metadata": {
    "colab": {},
    "colab_type": "code",
    "id": "1Wmp5ZOoH672"
   },
   "outputs": [],
   "source": [
    "%load_ext autoreload\n",
    "%autoreload 2"
   ]
  },
  {
   "cell_type": "code",
   "execution_count": null,
   "metadata": {},
   "outputs": [],
   "source": [
    "import matplotlib.pyplot as plt\n",
    "import pandas as pd\n",
    "import numpy as np\n",
    "from lib import lib "
   ]
  },
  {
   "cell_type": "markdown",
   "metadata": {
    "colab_type": "text",
    "id": "WRAqfvTBH68D"
   },
   "source": [
    "## 1. Load and inspect the data"
   ]
  },
  {
   "cell_type": "markdown",
   "metadata": {},
   "source": [
    "Load the twitter data. Uncomment (using `ctrl+/`) one line for your choice of dataset. The variable `tweets` is a list of tweets. "
   ]
  },
  {
   "cell_type": "code",
   "execution_count": null,
   "metadata": {
    "colab": {},
    "colab_type": "code",
    "id": "HmoLqD1pH68F"
   },
   "outputs": [],
   "source": [
    "tweets, test_tweets = lib.read_sandy_data(train_path='../data/pd_labeled-data-singlelabels-train.csv', test_path='../data/pd_labeled-data-singlelabels-test.csv')\n",
    "# tweets, test_tweets = lib.read_haiti_data(train_path='../data/pd_haiti_train.csv', test_path='../data/pd_haiti_test.csv')"
   ]
  },
  {
   "cell_type": "markdown",
   "metadata": {},
   "source": [
    "### Mini-exercises: Let's inspect the data!\n",
    "\n",
    "1.) Print the number of tweets in the list."
   ]
  },
  {
   "cell_type": "code",
   "execution_count": null,
   "metadata": {},
   "outputs": [],
   "source": [
    "#### YOUR CODE STARTS HERE ####\n",
    "\n",
    "#### YOUR CODE ENDS HERE ####"
   ]
  },
  {
   "cell_type": "markdown",
   "metadata": {},
   "source": [
    "2.) Assign the 11th tweet to the variable \"tweet\" and print it. \n",
    "\n",
    "*Hint: Remember python lists are 0 indexed! :)*"
   ]
  },
  {
   "cell_type": "code",
   "execution_count": null,
   "metadata": {
    "colab": {},
    "colab_type": "code",
    "id": "UWNKf7ZgH68Q",
    "outputId": "dd7245f8-9688-4a78-f086-2905bcfdbe73"
   },
   "outputs": [],
   "source": [
    "#### YOUR CODE STARTS HERE ####\n",
    "\n",
    "#### YOUR CODE ENDS HERE ####"
   ]
  },
  {
   "cell_type": "markdown",
   "metadata": {},
   "source": [
    "3.) To view the category of a tweet, we can access the attribute `tweet.category`. Print the category of the 11th tweet. \n",
    "\n",
    "*Hint: use the variable `tweet` assigned above.*"
   ]
  },
  {
   "cell_type": "code",
   "execution_count": null,
   "metadata": {},
   "outputs": [],
   "source": [
    "#### YOUR CODE STARTS HERE ####\n",
    "\n",
    "#### YOUR CODE ENDS HERE ####"
   ]
  },
  {
   "cell_type": "markdown",
   "metadata": {},
   "source": [
    "This function prints out a table containing all the tweets, along with their category label."
   ]
  },
  {
   "cell_type": "code",
   "execution_count": null,
   "metadata": {
    "colab": {},
    "colab_type": "code",
    "id": "6rCXajV7H68Z",
    "outputId": "9fe120af-862c-42b1-9c09-a681854cbd76"
   },
   "outputs": [],
   "source": [
    "lib.show_tweets(tweets)"
   ]
  },
  {
   "cell_type": "markdown",
   "metadata": {
    "colab_type": "text",
    "id": "vFMZAAmdH68k"
   },
   "source": [
    "### Extension exercise: find the most common hashtags in the dataset\n",
    "\n",
    "No need to add code here! Just take a look!"
   ]
  },
  {
   "cell_type": "code",
   "execution_count": null,
   "metadata": {
    "colab": {},
    "colab_type": "code",
    "id": "WDFpUPsNH68m",
    "outputId": "dca762cc-7440-48b7-8e22-ebd584ecef8d"
   },
   "outputs": [],
   "source": [
    "from collections import Counter\n",
    "hashtags = Counter()\n",
    "\n",
    "for t in tweets:\n",
    "    for idx, token in enumerate(t):\n",
    "        if token==\"#\":\n",
    "            hashtags[t[idx+1]] += 1\n",
    "\n",
    "print(hashtags.most_common(10))"
   ]
  },
  {
   "cell_type": "markdown",
   "metadata": {
    "colab_type": "text",
    "id": "X_3U8JCOH68u"
   },
   "source": [
    "## 2. Python refresher\n",
    "\n",
    "First, let's do some exercises to refresh our memory of a few Python concepts.\n",
    "\n",
    "### Functions\n",
    "A Python function is written like this:\n",
    "```\n",
    "def add_one(x):\n",
    "    return x+1\n",
    "```\n",
    "The name of the function is `add_one`, `x` is the input variable, and the `return` keyword tells us what to give as output."
   ]
  },
  {
   "cell_type": "markdown",
   "metadata": {},
   "source": [
    "1.) Define a function called `square_minus_1` that takes one variable (`x`), squares it, subtracts 1, and returns the result."
   ]
  },
  {
   "cell_type": "code",
   "execution_count": null,
   "metadata": {
    "colab": {},
    "colab_type": "code",
    "id": "GmHdNP3wH68v",
    "outputId": "4e3a8391-b807-4554-a4a6-663f8a6d5f30"
   },
   "outputs": [],
   "source": [
    "#### YOUR CODE STARTS HERE ####\n",
    "\n",
    "#### YOUR CODE ENDS HERE ####\n",
    "\n",
    "print(\"Testing:\")\n",
    "for x in [3,-4,6.5,0]:\n",
    "    print(str(x), \" -> \", str(square_minus_1(x)), end=' ')\n",
    "    print(\"CORRECT\" if square_minus_1(x)==(x**2-1) else \"INCORRECT\")"
   ]
  },
  {
   "cell_type": "markdown",
   "metadata": {
    "colab_type": "text",
    "id": "c1kPs556H682"
   },
   "source": [
    "### If-else statements\n",
    "\n",
    "An if/else statement looks like this:\n",
    "\n",
    "```\n",
    "if electoral_votes >= 270:\n",
    "    print(\"You win the election\")\n",
    "else:\n",
    "    print(\"You lose the election\")\n",
    "```\n",
    "\n",
    "The if-statement is evaluated (`electoral_votes >= 270`); if it's true then the code under the `if` is executed, if it's false then the code under the `else` is executed."
   ]
  },
  {
   "cell_type": "markdown",
   "metadata": {},
   "source": [
    "2.) Define a function called `contains_ss` that takes one variable (word) and returns `True` if the word contains a double-s and `False` if it doesn't.\n",
    "\n",
    "*Hint: to test whether a string e.g. \"ss\" is inside another string variable e.g. word, you can use `\"ss\" in word`.*"
   ]
  },
  {
   "cell_type": "code",
   "execution_count": null,
   "metadata": {
    "colab": {},
    "colab_type": "code",
    "id": "7EPgvbD3H682",
    "outputId": "a797a4b2-0b41-44f1-864f-250cc3786af8"
   },
   "outputs": [],
   "source": [
    "#### YOUR CODE STARTS HERE ####\n",
    "\n",
    "\n",
    "#### YOUR CODE ENDS HERE ####\n",
    "\n",
    "print(\"Testing:\")\n",
    "for word in [\"computer\", \"science\", \"lesson\"]:\n",
    "    print(\"{:s} ->\".format(word, contains_ss(word)), end=' ')\n",
    "    print(\"CORRECT\" if contains_ss(word)==(\"ss\" in word) else \"INCORRECT\")"
   ]
  },
  {
   "cell_type": "markdown",
   "metadata": {
    "colab_type": "text",
    "id": "0C2l7uwZH688"
   },
   "source": [
    "### More complex if-else statements\n",
    "\n",
    "Maybe you want to check *several* conditions? You can use an if/elif/else statement.\n",
    "\n",
    "```\n",
    "if teamA_score > teamB_score:\n",
    "    print(\"Team A wins\")\n",
    "elif teamA_score < teamB_score:\n",
    "    print(\"Team B wins\")\n",
    "else:\n",
    "    print(\"It's a tie!\")\n",
    "```\n",
    "\n",
    "`elif` stands for \"else if\". In fact, the above code is just a neater way of writing this:\n",
    "```\n",
    "if teamA_score > teamB_score:\n",
    "    print(\"Team A wins\")\n",
    "else:\n",
    "    if teamA_score < teamB_score:\n",
    "        print(\"Team B wins\")\n",
    "    else:\n",
    "        print(\"It's a tie!\")\n",
    "```\n",
    "\n",
    "You can have as many `elif` statments as you like. These are useful for when you want several options."
   ]
  },
  {
   "cell_type": "markdown",
   "metadata": {},
   "source": [
    "3.) Define a function called `grade` that takes one input (`score`).\n",
    "\n",
    "If score >= 90, return the string \"A\".\n",
    "\n",
    "Otherwise, if score >= 80, return the string \"B\".\n",
    "\n",
    "Otherwise, if score >= 70, return the string \"C\".\n",
    "\n",
    "Otherwise, if score >= 60, return the string \"D\".\n",
    "\n",
    "Otherwise, if score >= 50, return the string \"E\".\n",
    "\n",
    "Otherwise, return the string \"F\"."
   ]
  },
  {
   "cell_type": "code",
   "execution_count": null,
   "metadata": {
    "colab": {},
    "colab_type": "code",
    "id": "Vl-S6F1FH68-",
    "outputId": "88193545-54fc-4cd8-d091-0c1eb23a094c"
   },
   "outputs": [],
   "source": [
    "#### YOUR CODE STARTS HERE ####\n",
    "\n",
    "\n",
    "#### YOUR CODE ENDS HERE ####\n",
    "\n",
    "print(\"Testing:\")\n",
    "for (score,g) in [(77,\"C\"),(80,\"B\"),(32,\"F\"),(100,\"A\"),(69,\"D\")]:\n",
    "    print(\"%d -> %s\" % ((score, grade(score))), end=' ')\n",
    "    print(\"CORRECT\" if grade(score)==g else \"INCORRECT\")"
   ]
  },
  {
   "cell_type": "markdown",
   "metadata": {
    "colab_type": "text",
    "id": "y9NYKtHgH69D"
   },
   "source": [
    "## 3. Write a rule-based tweet classifier\n",
    "\n",
    "Time to write our rule-based classifier!\n",
    "The function outline below uses a `if/elif/else` statement to return the predicted category of a tweet.\n",
    "\n",
    "Fill in the missing `if` and `elif` statements with something sensible (there is no one right answer)!\n",
    "\n",
    "Start with something simple; we'll build it into something more complicated later.\n",
    "\n",
    "*Hint: Search for a keyword in the tweet. What case should your keyword have?*"
   ]
  },
  {
   "cell_type": "code",
   "execution_count": null,
   "metadata": {
    "colab": {},
    "colab_type": "code",
    "id": "JM1nS9NpH69G"
   },
   "outputs": [],
   "source": [
    "def classify_rb(tweet):\n",
    "    \n",
    "  tweet = str(tweet).lower() # this makes the tweet lower-case, so we don't have to worry about matching case\n",
    "\n",
    "  if ________:\n",
    "    return \"Medical\"\n",
    "  elif ________:\n",
    "    return \"Energy\"\n",
    "  elif ________:\n",
    "    return \"Water\"\n",
    "  elif ________:\n",
    "    return \"Food\"\n",
    "  else:\n",
    "    return \"None\""
   ]
  },
  {
   "cell_type": "markdown",
   "metadata": {
    "colab_type": "text",
    "id": "HyVbbEnBH69U"
   },
   "source": [
    "## 4. Test your rule-based classifier on some examples\n",
    "\n",
    "Run the cell below to see the results of your rule-based classifier. \n",
    "You should see a table showing each tweet, along with its true category and the category predicted by your system.\n",
    "\n",
    "Which types of tweets does your system get right? Which types of tweets does your system get wrong and why? How would you measure the accuracy of your system (this will be the topic of next class! :) )?"
   ]
  },
  {
   "cell_type": "code",
   "execution_count": null,
   "metadata": {
    "colab": {},
    "colab_type": "code",
    "id": "gtN0BKb6H69W",
    "outputId": "e4f159bf-6f44-4ada-b863-18d307f08a1c"
   },
   "outputs": [],
   "source": [
    "# python syntax: list comprehension vs for-loop\n",
    "predictions = [(tweet, classify_rb(tweet)) for tweet in test_tweets] # a list of (tweet, prediction) pairs\n",
    "\n",
    "lib.show_predictions(predictions, show_mistakes_only=False)"
   ]
  },
  {
   "cell_type": "markdown",
   "metadata": {
    "colab_type": "text",
    "id": "SUjX8-P8H69d"
   },
   "source": [
    "## 5. Break your rule-based classifier!\n",
    "\n",
    "It's time to FOOL THE RULES!\n",
    "\n",
    "You'll be deliberately trying to break your classifier by writing tricky tweets that cause your classifier to predict the wrong category. \n",
    "\n",
    "Once your own classifier has been fooled by a tricky tweet, it's your job to amend the rules in your classifier to account for the new case."
   ]
  },
  {
   "cell_type": "code",
   "execution_count": null,
   "metadata": {
    "colab": {},
    "colab_type": "code",
    "id": "JuO03c4_H69d"
   },
   "outputs": [],
   "source": [
    "def classify_rb_game(tweet):\n",
    "    \n",
    "    # TODO: Copy the body of the function classify_rb from above and paste below. When your classifer gets\n",
    "    # a tweet wrong, add a new rule so it will be correct.\n",
    "    \n",
    "    #### YOUR CODE STARTS HERE ###\n",
    "\n",
    "    #### YOUR CODE ENDS HERE ####"
   ]
  },
  {
   "cell_type": "markdown",
   "metadata": {
    "colab_type": "text",
    "id": "10dRPFbAH69i"
   },
   "source": [
    "### Write a tweet about Food that will be misclassified\n",
    "\n",
    "Below, write a disaster-scenario tweet about Food that the classification function above will get wrong (i.e. fail to recognize it's about food).\n",
    "\n",
    "*Hint: think of less-obvious food-related keywords that aren't included in the rule-based system above.*\n",
    "\n",
    "Then run the cell - make sure the tweet is classified as something other than Food!"
   ]
  },
  {
   "cell_type": "code",
   "execution_count": null,
   "metadata": {
    "colab": {},
    "colab_type": "code",
    "id": "ieBhLOqPH69j"
   },
   "outputs": [],
   "source": [
    "food_tweet = \"\"\n",
    "print(\"This tweet is classified as: {:s}\\n\".format(classify_rb_game(food_tweet)))"
   ]
  },
  {
   "cell_type": "markdown",
   "metadata": {
    "colab_type": "text",
    "id": "YN0KXSgzH69o"
   },
   "source": [
    "### Write a tweet about Energy that will be misclassified"
   ]
  },
  {
   "cell_type": "code",
   "execution_count": null,
   "metadata": {
    "colab": {},
    "colab_type": "code",
    "id": "PsVpsLxvH69q"
   },
   "outputs": [],
   "source": [
    "energy_tweet = \"\"\n",
    "print(\"This tweet is classified as: {:s}\\n\".format(classify_rb_game(energy_tweet)))"
   ]
  },
  {
   "cell_type": "markdown",
   "metadata": {
    "colab_type": "text",
    "id": "2y0a9nuEH69t"
   },
   "source": [
    "### Write a tweet about Water that will be misclassified"
   ]
  },
  {
   "cell_type": "code",
   "execution_count": null,
   "metadata": {
    "colab": {},
    "colab_type": "code",
    "id": "u3GFE-ImH69u"
   },
   "outputs": [],
   "source": [
    "water_tweet = \"\"\n",
    "print(\"This tweet is classified as: {:s}\\n\".format(classify_rb_game(water_tweet)))"
   ]
  },
  {
   "cell_type": "markdown",
   "metadata": {
    "colab_type": "text",
    "id": "evrvH1NzH69z"
   },
   "source": [
    "### Write a tweet about Medical that will be misclassified"
   ]
  },
  {
   "cell_type": "code",
   "execution_count": null,
   "metadata": {
    "colab": {},
    "colab_type": "code",
    "id": "MYCxdS_fH690"
   },
   "outputs": [],
   "source": [
    "medical_tweet = \"\"\n",
    "print(\"This tweet is classified as: {:s}\\n\".format(classify_rb_game(medical_tweet)))"
   ]
  },
  {
   "cell_type": "markdown",
   "metadata": {
    "colab_type": "text",
    "id": "KktF9cRdH695"
   },
   "source": [
    "### Write a tweet NOT about Food, that will be falsely classified as Food\n",
    "\n",
    "Below, write a disaster-scenario tweet that is NOT about Food, but that the classifier above will classify as Food.\n",
    "\n",
    "*Hint: you want to trick the classifier into thinking you're talking about food when you're not. Look at the keywords the rule-based system associates with food. Can you find a way to use them while actually talking about not-food?* \n",
    "\n",
    "* For example, if the system looks for the word \"food\" you could write \"Waiting out #Sandy by reading Plato. Food for thought.\"\n",
    "* If the system looks for the word \"cook\", you could write \"I hear the power's out in Cook County.\"\n",
    "* More simply, you could mention food incidentally but the real subject of the tweet is something else e.g. \"Was out food shopping when I heard about the power outage on the news. Hope everyone's OK.\"\n",
    "\n",
    "Then run the cell - make sure the tweet is classified as Food!"
   ]
  },
  {
   "cell_type": "code",
   "execution_count": null,
   "metadata": {
    "colab": {},
    "colab_type": "code",
    "id": "5kev0c6PH696"
   },
   "outputs": [],
   "source": [
    "not_food_tweet = \"\"\n",
    "print(\"This tweet is classified as: {:s}\\n\".format(classify_rb_game(not_food_tweet)))"
   ]
  },
  {
   "cell_type": "markdown",
   "metadata": {
    "colab_type": "text",
    "id": "f2NDYCs-H69-"
   },
   "source": [
    "### Write a tweet NOT about Energy, that will be falsely classified as Energy"
   ]
  },
  {
   "cell_type": "code",
   "execution_count": null,
   "metadata": {
    "colab": {},
    "colab_type": "code",
    "id": "r5V88xzHH69_"
   },
   "outputs": [],
   "source": [
    "not_energy_tweet = \"\"\n",
    "print(\"This tweet is classified as: {:s}\\n\".format(classify_rb_game(not_energy_tweet)))"
   ]
  },
  {
   "cell_type": "markdown",
   "metadata": {
    "colab_type": "text",
    "id": "tDPxCUrcH6-D"
   },
   "source": [
    "### Write a tweet NOT about Water, that will be falsely classified as Water"
   ]
  },
  {
   "cell_type": "code",
   "execution_count": null,
   "metadata": {
    "colab": {},
    "colab_type": "code",
    "id": "CFjSlDX-H6-D"
   },
   "outputs": [],
   "source": [
    "not_water_tweet = \"\"\n",
    "print(\"This tweet is classified as: {:s}\\n\".format(classify_rb_game(not_water_tweet)))"
   ]
  },
  {
   "cell_type": "markdown",
   "metadata": {
    "colab_type": "text",
    "id": "XdCE5dIZH6-I"
   },
   "source": [
    "### Write a tweet NOT about Medical, that will be falsely classified as Medical"
   ]
  },
  {
   "cell_type": "code",
   "execution_count": null,
   "metadata": {
    "colab": {},
    "colab_type": "code",
    "id": "WcZwWSqRH6-J"
   },
   "outputs": [],
   "source": [
    "not_medical_tweet = \"\"\n",
    "print(\"This tweet is classified as: {:s}\\n\".format(classify_rb_game(not_medical_tweet)))"
   ]
  },
  {
   "cell_type": "markdown",
   "metadata": {
    "colab_type": "text",
    "id": "kRXj2IJDH6-S"
   },
   "source": [
    "## 6. Bonus: understand the library functions! :D  \n",
    "In `lib.py`, read through the following functions we used above: \n",
    "  * `read_sandy_data` / `read_haiti_data`\n",
    "  * `show_predictions`\n",
    "  * `show_tweets`"
   ]
  }
 ],
 "metadata": {
  "anaconda-cloud": {},
  "colab": {
   "collapsed_sections": [],
   "name": "NLP Data / Rule based algorithm",
   "provenance": [
    {
     "file_id": "1NptakT4QEmPj5et8mzW4vOYQbRcnnmz4",
     "timestamp": 1594743698557
    }
   ]
  },
  "kernelspec": {
   "display_name": "Python 3",
   "language": "python",
   "name": "python3"
  },
  "language_info": {
   "codemirror_mode": {
    "name": "ipython",
    "version": 3
   },
   "file_extension": ".py",
   "mimetype": "text/x-python",
   "name": "python",
   "nbconvert_exporter": "python",
   "pygments_lexer": "ipython3",
   "version": "3.8.5"
  },
  "toc": {
   "base_numbering": 1,
   "nav_menu": {},
   "number_sections": true,
   "sideBar": true,
   "skip_h1_title": false,
   "title_cell": "Table of Contents",
   "title_sidebar": "Contents",
   "toc_cell": false,
   "toc_position": {},
   "toc_section_display": true,
   "toc_window_display": false
  }
 },
 "nbformat": 4,
 "nbformat_minor": 1
}
