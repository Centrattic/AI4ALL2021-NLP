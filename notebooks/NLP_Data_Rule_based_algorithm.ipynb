{
 "cells": [
  {
   "cell_type": "markdown",
   "metadata": {},
   "source": [
    "[![Open In Colab](https://colab.research.google.com/assets/colab-badge.svg)](https://colab.research.google.com/github/heyyjudes/AI4ALL2021-NLP/blob/notebooks/notebooks/NLP_Data_Rule_based_algorithm.ipynb)"
   ]
  },
  {
   "cell_type": "code",
   "execution_count": null,
   "metadata": {
    "id": "fyg8d7S47Vea"
   },
   "outputs": [],
   "source": [
    "# Run this every time you open the spreadsheet\n",
    "%load_ext autoreload\n",
    "%autoreload 2"
   ]
  },
  {
   "cell_type": "code",
   "execution_count": null,
   "metadata": {
    "id": "1Wmp5ZOoH672"
   },
   "outputs": [],
   "source": [
    "import matplotlib.pyplot as plt\n",
    "import pandas as pd\n",
    "import numpy as np\n",
    "\n",
    "url = 'https://raw.githubusercontent.com/heyyjudes/AI4ALL2021-NLP/notebooks/data/pd_labeled-data-singlelabels-train.csv'\n",
    "df_data = pd.read_csv(url)"
   ]
  },
  {
   "cell_type": "code",
   "execution_count": null,
   "metadata": {
    "colab": {
     "base_uri": "https://localhost:8080/",
     "height": 34
    },
    "id": "DArESRp_djG-",
    "outputId": "9d1085ad-bea6-4173-c6e9-9cd6894a1f1e"
   },
   "outputs": [],
   "source": [
    "len(df_data)"
   ]
  },
  {
   "cell_type": "markdown",
   "metadata": {
    "id": "WRAqfvTBH68D"
   },
   "source": [
    "# Load and inspect the data\n",
    "\n",
    "We will be making use of the pandas library in this notebook. Here is a cheat sheet of the pandas library syntax: https://pandas.pydata.org/Pandas_Cheat_Sheet.pdf\n",
    "\n",
    "1. Determine what the different **classes** for the tweets are (hint: there are 5)\n",
    "1. Determine what the difference **request types** for the tweets are (hint: there are 3)\n",
    "1. Determine **how many** total examples we have in our data \n",
    "\n"
   ]
  },
  {
   "cell_type": "code",
   "execution_count": null,
   "metadata": {
    "colab": {
     "base_uri": "https://localhost:8080/",
     "height": 363
    },
    "id": "v54QVoEK7dJk",
    "outputId": "8e8158eb-b4d2-4021-c9ad-1e51c0f7c509"
   },
   "outputs": [],
   "source": [
    "### YOUR CODE HERE ####\n",
    "\n",
    "### END CODE HERE ####"
   ]
  },
  {
   "cell_type": "markdown",
   "metadata": {
    "id": "2hESCZvT_aAE"
   },
   "source": [
    "Determine **how many examples** there are in **each class**. \n",
    "\n",
    "Hint: to get all of the examples in the food class you can use the following syntax: \n",
    "\n",
    "```\n",
    "df_food = df_data.loc[df_data[\"Class\"]==\"Food\"]\n",
    "```\n",
    "\n",
    "Look at the data and find out what words are commonly used for each class. "
   ]
  },
  {
   "cell_type": "code",
   "execution_count": null,
   "metadata": {
    "id": "NVAoJh2DDoBD"
   },
   "outputs": [],
   "source": [
    "### YOUR CODE HERE ####\n",
    "\n",
    "### END CODE HERE ####"
   ]
  },
  {
   "cell_type": "markdown",
   "metadata": {
    "id": "o4EiFM6ZiCjb"
   },
   "source": [
    "### Add two columns to your dataframe \n",
    "Add a **\"Predicted Class\"** column and a **\"Request type\"** column to your pandas dataframe with the following code block. You will fill in this column with your rule based classifier. "
   ]
  },
  {
   "cell_type": "code",
   "execution_count": null,
   "metadata": {
    "id": "15IB2pYgiVbh"
   },
   "outputs": [],
   "source": [
    "df_data[\"Predicted Class\"] = \"\"\n",
    "df_data[\"Request Type\"] = \"\""
   ]
  },
  {
   "cell_type": "markdown",
   "metadata": {
    "id": "y9NYKtHgH69D"
   },
   "source": [
    "# Write a rule-based tweet classifier\n",
    "\n",
    "Time to write our rule-based classifier!\n",
    "Use `if/elif/else` statements to return the predicted category of a tweet based on your choice of rules. These rules might include whether or not a keyword appears in the tweet (eg. If the word \"food\" appears, you could consider classifying that tweet as food). \n",
    "\n",
    "Start with something simple; we'll compare the performance of rule-based classifiers to more complex algorithms later. "
   ]
  },
  {
   "cell_type": "code",
   "execution_count": null,
   "metadata": {
    "id": "JM1nS9NpH69G"
   },
   "outputs": [],
   "source": [
    "def classify_rb(tweet):\n",
    "  ### YOUR CODE HERE ####\n",
    "\n",
    "  # Returns either \"None\", \"Medical\", \"Energy\", \"Water\", or \"Food\"\n",
    "  ### END CODE HERE ####"
   ]
  },
  {
   "cell_type": "code",
   "execution_count": null,
   "metadata": {
    "id": "aBIWn930pthY"
   },
   "outputs": [],
   "source": [
    "# Extract a sample tweet from your pandas dataframe and use it to test your function\n"
   ]
  },
  {
   "cell_type": "markdown",
   "metadata": {
    "id": "HyVbbEnBH69U"
   },
   "source": [
    "# Test your rule-based classifier on some examples\n",
    "\n",
    "Loop through part of your pandas dataframe and use your classify_rb function to fill in the predicted class column corresponding to the tweets in your dataframe . \n",
    "\n",
    "Which types of tweets does your system get right? Which types of tweets does your system get wrong and why? \n",
    "\n",
    "How would you measure the accuracy of your system?"
   ]
  },
  {
   "cell_type": "markdown",
   "metadata": {
    "id": "SUjX8-P8H69d"
   },
   "source": [
    "# Break your rule-based classifier!\n",
    "\n",
    "It's time to FOOL THE RULES!\n",
    "\n",
    "You'll be deliberately trying to break each others' rule-based classifiers by writing tricky tweets that fool your neighbor's rule-based classifier\n",
    "\n",
    "Once your own classifier has been fooled by a tricky tweet, it's your job to amend the rules in your classifier to account for the new case."
   ]
  },
  {
   "cell_type": "markdown",
   "metadata": {
    "id": "10dRPFbAH69i"
   },
   "source": [
    "### Write a tweet about Food that will be misclassified\n",
    "\n",
    "Below, write a disaster-scenario tweet about Food that the classification function above will get wrong (i.e. fail to recognize it's about food).\n",
    "\n",
    "Hint: think of less-obvious food-related keywords that aren't included in the rule-based system above.\n",
    "\n",
    "Then run the cell - make sure the tweet is classified as something other than Food!"
   ]
  },
  {
   "cell_type": "code",
   "execution_count": null,
   "metadata": {
    "id": "ieBhLOqPH69j"
   },
   "outputs": [],
   "source": [
    "food_tweet = \"\"\n",
    "print(\"This tweet is classified as: {:s}\\n\".format(classify_rb(food_tweet)))"
   ]
  },
  {
   "cell_type": "markdown",
   "metadata": {
    "id": "YN0KXSgzH69o"
   },
   "source": [
    "### Write a tweet about Energy that will be misclassified"
   ]
  },
  {
   "cell_type": "code",
   "execution_count": null,
   "metadata": {
    "id": "PsVpsLxvH69q"
   },
   "outputs": [],
   "source": [
    "energy_tweet = \"\"\n",
    "print(\"This tweet is classified as: {:s}\\n\".format(classify_rb(energy_tweet)))"
   ]
  },
  {
   "cell_type": "markdown",
   "metadata": {
    "id": "2y0a9nuEH69t"
   },
   "source": [
    "### Write a tweet about Water that will be misclassified"
   ]
  },
  {
   "cell_type": "code",
   "execution_count": null,
   "metadata": {
    "id": "u3GFE-ImH69u"
   },
   "outputs": [],
   "source": [
    "water_tweet = \"\"\n",
    "print(\"This tweet is classified as: {:s}\\n\".format(classify_rb(water_tweet)))"
   ]
  },
  {
   "cell_type": "markdown",
   "metadata": {
    "id": "evrvH1NzH69z"
   },
   "source": [
    "### Write a tweet about Medical that will be misclassified"
   ]
  },
  {
   "cell_type": "code",
   "execution_count": null,
   "metadata": {
    "id": "MYCxdS_fH690"
   },
   "outputs": [],
   "source": [
    "medical_tweet = \"\"\n",
    "print(\"This tweet is classified as: {:s}\\n\".format(classify_rb(medical_tweet)))"
   ]
  },
  {
   "cell_type": "markdown",
   "metadata": {
    "id": "KktF9cRdH695"
   },
   "source": [
    "### Write a tweet NOT about Food, that will be falsely classified as Food\n",
    "\n",
    "Below, write a disaster-scenario tweet that is NOT about Food, but that the classifier above will classify as Food.\n",
    "\n",
    "Hint: you want to trick the classifier into thinking you're talking about food when you're not. Look at the keywords the rule-based system associates with food. Can you find a way to use them while actually talking about not-food? \n",
    "\n",
    "* For example, if the system looks for the word \"food\" you could write *\"Waiting out #Sandy by reading Plato. Food for thought.\"* \n",
    "* If the system looks for the word \"cook\", you could write *\"I hear the power's out in Cook County.\"*\n",
    "* More simply, you could mention food incidentally but the real subject of the tweet is something else e.g. *\"Was out food shopping when I heard about the power outage on the news. Hope everyone's OK.\"*\n",
    "\n",
    "Then run the cell - make sure the tweet is classified as Food!"
   ]
  },
  {
   "cell_type": "code",
   "execution_count": null,
   "metadata": {
    "id": "5kev0c6PH696"
   },
   "outputs": [],
   "source": [
    "not_food_tweet = \"\"\n",
    "print(\"This tweet is classified as: {:s}\\n\".format(classify_rb(not_food_tweet)))"
   ]
  },
  {
   "cell_type": "markdown",
   "metadata": {
    "id": "f2NDYCs-H69-"
   },
   "source": [
    "### Write a tweet NOT about Energy, that will be falsely classified as Energy"
   ]
  },
  {
   "cell_type": "code",
   "execution_count": null,
   "metadata": {
    "id": "r5V88xzHH69_"
   },
   "outputs": [],
   "source": [
    "not_energy_tweet = \"\"\n",
    "print(\"This tweet is classified as: {:s}\\n\".format(classify_rb(not_energy_tweet)))"
   ]
  },
  {
   "cell_type": "markdown",
   "metadata": {
    "id": "tDPxCUrcH6-D"
   },
   "source": [
    "### Write a tweet NOT about Water, that will be falsely classified as Water"
   ]
  },
  {
   "cell_type": "code",
   "execution_count": null,
   "metadata": {
    "id": "CFjSlDX-H6-D"
   },
   "outputs": [],
   "source": [
    "not_water_tweet = \"\"\n",
    "print(\"This tweet is classified as: {:s}\\n\".format(classify_rb(not_water_tweet)))"
   ]
  },
  {
   "cell_type": "markdown",
   "metadata": {
    "id": "XdCE5dIZH6-I"
   },
   "source": [
    "### Write a tweet NOT about Medical, that will be falsely classified as Medical"
   ]
  },
  {
   "cell_type": "code",
   "execution_count": null,
   "metadata": {
    "id": "WcZwWSqRH6-J"
   },
   "outputs": [],
   "source": [
    "not_medical_tweet = \"\"\n",
    "print(\"This tweet is classified as: {:s}\\n\".format(classify_rb(not_medical_tweet)))"
   ]
  }
 ],
 "metadata": {
  "anaconda-cloud": {},
  "colab": {
   "collapsed_sections": [],
   "name": "NLP Data / Rule based algorithm",
   "provenance": []
  },
  "kernelspec": {
   "display_name": "Python 3",
   "language": "python",
   "name": "python3"
  },
  "language_info": {
   "codemirror_mode": {
    "name": "ipython",
    "version": 3
   },
   "file_extension": ".py",
   "mimetype": "text/x-python",
   "name": "python",
   "nbconvert_exporter": "python",
   "pygments_lexer": "ipython3",
   "version": "3.8.5"
  },
  "toc": {
   "base_numbering": 1,
   "nav_menu": {},
   "number_sections": true,
   "sideBar": true,
   "skip_h1_title": false,
   "title_cell": "Table of Contents",
   "title_sidebar": "Contents",
   "toc_cell": false,
   "toc_position": {},
   "toc_section_display": true,
   "toc_window_display": false
  }
 },
 "nbformat": 4,
 "nbformat_minor": 1
}
