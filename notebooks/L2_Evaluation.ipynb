{
 "cells": [
  {
   "cell_type": "markdown",
   "metadata": {},
   "source": [
    "# Evaluating our Rule-based Classifier"
   ]
  },
  {
   "cell_type": "code",
   "execution_count": null,
   "metadata": {
    "id": "dGqw1TkYD23F"
   },
   "outputs": [],
   "source": [
    "# Run this every time you open the spreadsheet\n",
    "%load_ext autoreload\n",
    "%autoreload 2"
   ]
  },
  {
   "cell_type": "code",
   "execution_count": null,
   "metadata": {},
   "outputs": [],
   "source": [
    "from lib.lib import * "
   ]
  },
  {
   "cell_type": "markdown",
   "metadata": {
    "id": "BTuKmj-HD23P"
   },
   "source": [
    "## 1. Load the data and our rule-based classifier\n",
    "\n",
    "Load the data. This function returns `tweets` and `test_tweets`, both lists of tweets"
   ]
  },
  {
   "cell_type": "code",
   "execution_count": null,
   "metadata": {
    "id": "648D-CPsD23R"
   },
   "outputs": [],
   "source": [
    "tweets, test_tweets = read_data()"
   ]
  },
  {
   "cell_type": "markdown",
   "metadata": {},
   "source": [
    "Add your rule based classifier code. Return a string with the predicted class name."
   ]
  },
  {
   "cell_type": "code",
   "execution_count": null,
   "metadata": {
    "id": "qHBB-AEeD23b"
   },
   "outputs": [],
   "source": [
    "def classify_rb(tweet):\n",
    "  tweet = str(tweet).lower() # this makes the tweet lower-case, so we don't have to worry about matching case\n",
    "\n",
    "  #### YOUR CODE HERE ####\n",
    "    \n",
    "  #### END YOUR CODE HERE ####"
   ]
  },
  {
   "cell_type": "markdown",
   "metadata": {
    "id": "ehUfd_H7D23j"
   },
   "source": [
    "## 2. Python refresher\n",
    "\n",
    "Let's review some Python concepts before we write our evaluation code.\n",
    "\n",
    "### Lists\n",
    "In Python, a _list_ is an ordered collection of items. The items can be strings, numbers, booleans, or any other kind of Python object. \n",
    "\n",
    "You can create lists like this:\n",
    "```\n",
    "integer_list = [5, 6, 7, 8]\n",
    "string_list = ['hello', 'world']\n",
    "bool_list = [False, True, False, False, True]\n",
    "```\n",
    "\n",
    "If you want a list of the numbers up to (but not including) 10, you can use the `range` function.\n",
    "```\n",
    "upto10_list = range(10)\n",
    "```\n",
    "This gives you [0, 1, 2, 3, 4, 5, 6, 7, 8, 9]."
   ]
  },
  {
   "cell_type": "markdown",
   "metadata": {},
   "source": [
    "1.) Create a list called `my_numbers` that contains the numbers from 0 to 6 (inclusive) and then print it."
   ]
  },
  {
   "cell_type": "code",
   "execution_count": null,
   "metadata": {
    "colab": {
     "base_uri": "https://localhost:8080/",
     "height": 34
    },
    "id": "XQl4pb4MD23k",
    "outputId": "5a7454cd-8667-46b1-e770-7880ac89c97e"
   },
   "outputs": [],
   "source": [
    "#### YOUR CODE HERE ####\n",
    "\n",
    "#### END YOUR CODE HERE ####"
   ]
  },
  {
   "cell_type": "markdown",
   "metadata": {},
   "source": [
    "2.) Now use the `range()` function to create `my_numbers`, convert it to a list, and print the result. It should match the previous cell. Why do we need the function call to list? \n",
    "\n",
    "*Hint: look carefully at the `range(10)` example above.*"
   ]
  },
  {
   "cell_type": "code",
   "execution_count": null,
   "metadata": {
    "colab": {
     "base_uri": "https://localhost:8080/",
     "height": 34
    },
    "id": "n_AdUlPoD23x",
    "outputId": "beb2d3bd-e103-4d26-8cd8-cc9fc32f3fd6"
   },
   "outputs": [],
   "source": [
    "#### YOUR CODE HERE ####\n",
    "\n",
    "#### END YOUR CODE HERE ####"
   ]
  },
  {
   "cell_type": "markdown",
   "metadata": {
    "id": "TSo2DNDHD234"
   },
   "source": [
    "### For loops\n",
    "\n",
    "In Python, a _for loop_ allows you to iterate over a list.\n",
    "```\n",
    "shopping_list = ['bread', 'bananas', 'milk']\n",
    "\n",
    "for item in shopping_list:\n",
    "    print item\n",
    "```\n",
    "\n",
    "For example, the code above prints out the following output:\n",
    "\n",
    "```\n",
    "bread\n",
    "bananas\n",
    "milk\n",
    "```"
   ]
  },
  {
   "cell_type": "markdown",
   "metadata": {},
   "source": [
    "3.) Write a for-loop that iterates through `my_numbers`, and prints the square of each number. You should see the following numbers print out, one per line: 0, 1, 4, 9, 16, 25, 36."
   ]
  },
  {
   "cell_type": "code",
   "execution_count": null,
   "metadata": {
    "colab": {
     "base_uri": "https://localhost:8080/",
     "height": 139
    },
    "id": "hMDLjVe6D235",
    "outputId": "517d602e-909b-4a06-e54b-179f73845d55"
   },
   "outputs": [],
   "source": [
    "#### YOUR CODE HERE ####\n",
    "    \n",
    "#### END YOUR CODE HERE ####"
   ]
  },
  {
   "cell_type": "markdown",
   "metadata": {},
   "source": [
    "4.) Use a for-loop to calculate the sum of the squares of `my_numbers`. Save the result in a variable called `sum_squares`."
   ]
  },
  {
   "cell_type": "code",
   "execution_count": null,
   "metadata": {
    "colab": {
     "base_uri": "https://localhost:8080/",
     "height": 52
    },
    "id": "o5xt3KHzD23-",
    "outputId": "84ab4939-42e4-4cff-d545-9af52d7354ed"
   },
   "outputs": [],
   "source": [
    "#### YOUR CODE STARTS HERE ####\n",
    "\n",
    "#### YOUR CODE ENDS HERE ####\n",
    "\n",
    "print(\"Testing: sum_squares = {:d}\".format(sum_squares))\n",
    "print(\"CORRECT\" if sum_squares==91 else \"INCORRECT\")"
   ]
  },
  {
   "cell_type": "markdown",
   "metadata": {
    "id": "qRLFJ3edD24C"
   },
   "source": [
    "### Incrementing\n",
    "\n",
    "If you have an integer variable e.g. `x=3` and you want to increase `x` by 1 (which is called _incrementing_), then you can write\n",
    "```\n",
    "x = x+1\n",
    "```\n",
    "or, in shorthand:\n",
    "```\n",
    "x += 1\n",
    "```\n",
    "\n",
    "This can be useful when you're using `x` to count something. For example:\n",
    "```\n",
    "ages = [7, 14, 23, 3, 10, 19]\n",
    "\n",
    "num_adults = 0\n",
    "for age in ages:\n",
    "    if age >= 18:\n",
    "        num_adults += 1\n",
    "\n",
    "print(num_adults)\n",
    "```\n",
    "What should this code print out?"
   ]
  },
  {
   "cell_type": "markdown",
   "metadata": {},
   "source": [
    "5.) Count the number of Weasleys in the list of characters, and save the result to the variable `num_weasleys`. Use incrementation with the `x += 1` notation. "
   ]
  },
  {
   "cell_type": "code",
   "execution_count": null,
   "metadata": {
    "colab": {
     "base_uri": "https://localhost:8080/",
     "height": 52
    },
    "id": "lPer4ynQD24D",
    "outputId": "d0290cb9-9b99-44c1-b4bc-d6d6bc68349d"
   },
   "outputs": [],
   "source": [
    "characters = ['Harry Potter', 'Ron Weasley', 'Albus Dumbledore', 'Ginny Weasley', \n",
    "              'Percy Weasley', 'Hermione Granger', 'Fred Weasley', 'George Weasley']\n",
    "\n",
    "#### YOUR CODE STARTS HERE ####\n",
    "\n",
    "#### YOUR CODE ENDS HERE ####\n",
    "\n",
    "print(\"Testing: num_weasleys = {:d}\".format(num_weasleys))\n",
    "print(\"CORRECT\" if num_weasleys==5 else \"INCORRECT\")"
   ]
  },
  {
   "cell_type": "markdown",
   "metadata": {
    "id": "m1AtA2hTD24I"
   },
   "source": [
    "### Testing for equality and inequality\n",
    "\n",
    "Sometimes you want to check if two values are equal, perhaps using an `if` statement. \n",
    "To check for equality you need to use a _double_ equals sign `==`.\n",
    "```\n",
    "x = 5 \n",
    "y = 8\n",
    "if x == y:\n",
    "    print(\"x and y are equal\")\n",
    "```\n",
    "To check for *inequality*, i.e. if two things aren't equal, use `!=`.\n",
    "```\n",
    "x = 5 \n",
    "y = 8\n",
    "if x != y:\n",
    "    print(\"x and y are NOT equal\")\n",
    "```"
   ]
  },
  {
   "cell_type": "markdown",
   "metadata": {},
   "source": [
    "6.) Use a for-loop, incrementation and equality testing to count the number of cats in my list of pets. Assign the result to the variable `num_cats`."
   ]
  },
  {
   "cell_type": "code",
   "execution_count": null,
   "metadata": {
    "colab": {
     "base_uri": "https://localhost:8080/",
     "height": 52
    },
    "id": "SEswKqwgD24J",
    "outputId": "f963ba18-f1c8-47e3-8979-d69862d42e30"
   },
   "outputs": [],
   "source": [
    "my_pets = ['cat', 'lizard', 'cat', 'dog', 'cat', 'snake', 'dog', 'cat', 'dog', 'parrot']\n",
    "\n",
    "\n",
    "#### YOUR CODE STARTS HERE ####\n",
    "\n",
    "#### YOUR CODE ENDS HERE ####\n",
    "\n",
    "print(\"Testing: num_cats = {:d}\".format(num_cats))\n",
    "print(\"CORRECT\" if num_cats==4 else \"INCORRECT\")"
   ]
  },
  {
   "cell_type": "markdown",
   "metadata": {},
   "source": [
    "7.) Use a for-loop, incrementation and inequality testing to count the number of pets that are neither cats nor dogs. Assign the result to the variable `num_unusual`."
   ]
  },
  {
   "cell_type": "code",
   "execution_count": null,
   "metadata": {
    "colab": {
     "base_uri": "https://localhost:8080/",
     "height": 52
    },
    "id": "QatlhwX9D24O",
    "outputId": "65fffd0e-7ade-479f-9e25-9cb6a00dbb71"
   },
   "outputs": [],
   "source": [
    "#### YOUR CODE STARTS HERE ####\n",
    "\n",
    "#### YOUR CODE ENDS HERE ####\n",
    "\n",
    "print(\"Testing: num_unusual = {:d}\".format(num_unusual))\n",
    "print(\"CORRECT\" if num_unusual==3 else \"INCORRECT\")"
   ]
  },
  {
   "cell_type": "markdown",
   "metadata": {
    "id": "9UyKIry7D24U"
   },
   "source": [
    "## 3. Measure the accuracy of your rule-based classifier\n",
    "\n",
    "Complete the function below to calculate the Precision, Recall and F1 for a given category (e.g. Food)."
   ]
  },
  {
   "cell_type": "code",
   "execution_count": null,
   "metadata": {
    "colab": {
     "base_uri": "https://localhost:8080/",
     "height": 451
    },
    "id": "XlrzlTN_D24V",
    "outputId": "cb1ccbce-0bc7-4689-ac9c-1b0dda94dcf9"
   },
   "outputs": [],
   "source": [
    "def evaluate(predictions, c):\n",
    "    \"\"\"This function calculate the precision, recall and F1 for a single category c (e.g. Food)\n",
    "    Inputs:\n",
    "        predictions: a list of (tweet, predicted_category) pairs\n",
    "        c: a category \n",
    "    Returns:\n",
    "        The F1 score.\n",
    "    \"\"\"\n",
    "    #### YOUR CODE STARTS HERE ####\n",
    "\n",
    "    # Initialize variables to count the number of true positives, false positives and false negatives\n",
    "\n",
    "    # Iterate through the tweets, counting the number of true positives, false positives and false negatives\n",
    "\n",
    "        \n",
    "\n",
    "    #### YOUR CODE ENDS HERE ####\n",
    "            \n",
    "            \n",
    "            \n",
    "    # Before we calculate Precision, Recall and F1 we need to check whether true_positives = 0. Why?\n",
    "    if true_positives == 0:\n",
    "        #### YOUR CODE STARTS HERE ####\n",
    "\n",
    "        #### YOUR CODE ENDS HERE ####\n",
    "    else:\n",
    "        # Calculate Precision, Recall and F1\n",
    "        # Consult the formulae on the slides\n",
    "        \n",
    "        #### YOUR CODE STARTS HERE ####\n",
    "        \n",
    "        #### YOUR CODE ENDS HERE ####\n",
    "\n",
    "    # Print the category name, Precision, Recall and F1\n",
    "    print(c)\n",
    "    print(\"Precision:\", precision) \n",
    "    print(\"Recall:\", recall)\n",
    "    print(\"F1:\", f1)\n",
    "    print()\n",
    "\n",
    "    # Return the F1 score\n",
    "    return f1\n",
    "\n",
    "\n",
    "predictions = [(tweet, classify_rb(tweet)) for tweet in test_tweets] # Make a list of (tweet, predicted_category) pairs\n",
    "\n",
    "# Get the F1 scores for each category\n",
    "\n",
    "#### YOUR CODE STARTS HERE ####\n",
    "\n",
    "\n",
    "#### YOUR CODE ENDS HERE ####"
   ]
  },
  {
   "cell_type": "markdown",
   "metadata": {
    "id": "n2ecYqWkD24a"
   },
   "source": [
    "Complete the cell below to calculate the average F1 score, which should be the average of the F1 scores for each category."
   ]
  },
  {
   "cell_type": "code",
   "execution_count": null,
   "metadata": {
    "colab": {
     "base_uri": "https://localhost:8080/",
     "height": 34
    },
    "id": "tTIRORmzD24b",
    "outputId": "991b232e-e192-43f3-8ca6-f1328a9c9f65"
   },
   "outputs": [],
   "source": [
    "#### YOUR CODE STARTS HERE ####\n",
    "\n",
    "#### YOUR CODE ENDS HERE ####"
   ]
  },
  {
   "cell_type": "markdown",
   "metadata": {
    "id": "O8d9NIF7D24h"
   },
   "source": [
    "## 4. Look at the confusion matrix\n",
    "\n",
    "* _Rows_ represent the _true category_ of the tweet\n",
    "* _Columns_ represent the _predicted category_ from your classifier\n",
    "* So numbers on the diagonal represent correct classifications, and off-diagonal numbers represent misclassification\n",
    "\n",
    "Follow the steps below to fill in the code to generate the confusion matrix. "
   ]
  },
  {
   "cell_type": "code",
   "execution_count": null,
   "metadata": {
    "id": "AYoQdyspD24h"
   },
   "outputs": [],
   "source": [
    "import numpy as np\n",
    "\n",
    "categories = ['Energy', 'Food', 'Medical', 'None', 'Water']\n",
    "# Step 1: assign the number of categories to variable `num_categories`\n",
    "#### YOUR CODE STARTS HERE ####\n",
    "\n",
    "#### YOUR CODE ENDS HERE ####\n",
    "\n",
    "# Obtain a list of (tweet, predicted_category) pairs\n",
    "predictions = [(tweet, classify_rb(tweet)) for tweet in test_tweets]\n",
    "\n",
    "def get_confusion_matrix(predictions):\n",
    "    # Step 2: initialize the confusion matrix with zeros\n",
    "    # We provide 3 ways to initialize the confusion matrix.\n",
    "    # You can play with any of them.\n",
    "    method_id = 1\n",
    "    # method_id = 2\n",
    "    # method_id = 3\n",
    "    \n",
    "    if method_id == 1:\n",
    "        # Method 1\n",
    "        confusion_mtrx = []\n",
    "        for _ in range(num_categories):\n",
    "            row = []\n",
    "            for _ in range(num_categories):\n",
    "                row.append(0)\n",
    "            confusion_mtrx.append(row)\n",
    "    elif method_id == 2:\n",
    "        # Method 2\n",
    "        confusion_mtrx = []\n",
    "        for _ in range(num_categories):\n",
    "            row = [0] * num_categories\n",
    "            confusion_mtrx.append(row)\n",
    "    elif method_id == 3:\n",
    "        # Method 3\n",
    "        confusion_mtrx = np.zeros(n_rows, n_cols)\n",
    "\n",
    "    # Step 3: fill in values of the confusion matrix.\n",
    "    # Remember that the confusion matrix consists of example counts\n",
    "    # e.g. `confusion_mtrx[0][2] = 4` means\n",
    "    #      there are 4 examples from class 0 that are predicted as class 2.\n",
    "    #### YOUR CODE STARTS HERE ####\n",
    "\n",
    "    # Go through each example in the test set\n",
    "\n",
    "        # Find the true and predicted label of an example\n",
    "        \n",
    "        # Map true/predicted labels to numbers\n",
    "        # which will be used to index into the confusion matrix\n",
    "        \n",
    "        # Increment the corresponding entry of the confusion matrix\n",
    "    \n",
    "    #### YOUR CODE ENDS HERE ####\n",
    "    return np.array(confusion_mtrx)\n",
    "\n",
    "# Step 5: apply your function on the predictions and assign the confusion matrix to variable `confusion_mtrx`\n",
    "confusion_mtrx = get_confusion_matrix(predictions)"
   ]
  },
  {
   "cell_type": "code",
   "execution_count": null,
   "metadata": {
    "id": "Gb1EoemDD24m",
    "outputId": "d413b403-1023-4a97-a82e-d3f55e7797a8"
   },
   "outputs": [],
   "source": [
    "disp_confusion_matrix(confusion_mtrx)\n",
    "# You can compare your result with (the two results should be identical):\n",
    "true_confusion_mtrx = show_confusion_matrix(predictions)"
   ]
  },
  {
   "cell_type": "markdown",
   "metadata": {
    "id": "YX2MNo6cD24r"
   },
   "source": [
    "## 5. Look at the predictions\n",
    "\n",
    "By looking at the predictions, can you figure out why your classifier is making the mistakes shown in the confusion matrix (dark off-diagonal squares)?"
   ]
  },
  {
   "cell_type": "code",
   "execution_count": null,
   "metadata": {
    "id": "vt_syuXVD24s",
    "outputId": "8c753add-334c-405f-c67c-1b65daded5df"
   },
   "outputs": [],
   "source": [
    "show_predictions(predictions)"
   ]
  },
  {
   "cell_type": "markdown",
   "metadata": {
    "collapsed": true,
    "id": "GxvKRDYFD24x"
   },
   "source": [
    "## 6. Bonus: more Python :)"
   ]
  },
  {
   "cell_type": "markdown",
   "metadata": {
    "id": "eSXnlFQND24y"
   },
   "source": [
    "### List Comprehension\n",
    "*List comprehension* is a shorter (in terms of lines of code) way to construct a list from an *iterable* (for example, a list), which can sometimes be interchangable with constructing using a for-loop."
   ]
  },
  {
   "cell_type": "code",
   "execution_count": null,
   "metadata": {
    "id": "z5-T4M8aD24z",
    "outputId": "98c89112-8139-4eff-d2e5-8f534c0232b1"
   },
   "outputs": [],
   "source": [
    "# The following two outputs are equivalent:\n",
    "lst = [1,2,3,4,5] # a list\n",
    "# Method 1: for loop\n",
    "output1 = []\n",
    "for each in lst:\n",
    "    output1.append(each + 5)\n",
    "\n",
    "# Method 2: list comprehension\n",
    "output2 = [each+5 for each in lst]\n",
    "\n",
    "# Check if the two lists are indeed equivalent\n",
    "if output1 == output2:\n",
    "    print('Sanity check passed.')\n",
    "else:\n",
    "    print('Sanity check failed.')"
   ]
  },
  {
   "cell_type": "markdown",
   "metadata": {
    "id": "0NC3R1HgD243"
   },
   "source": [
    "What if there is an if-statement in the loop? For example:"
   ]
  },
  {
   "cell_type": "code",
   "execution_count": null,
   "metadata": {
    "id": "jhur-oDJD244",
    "outputId": "f5e67771-6a75-47ab-f298-fc39297abb60"
   },
   "outputs": [],
   "source": [
    "lst = [1,2,3,4,5]\n",
    "odd_output = []\n",
    "for each in lst:\n",
    "    if each % 2 == 1:\n",
    "        # only add odd numbers to the output\n",
    "        odd_output.append(each)\n",
    "print(odd_output)"
   ]
  },
  {
   "cell_type": "markdown",
   "metadata": {
    "id": "UoOrR8HyD248"
   },
   "source": [
    "Can we use list comprehension? Fill in the code below to use a conditional in a list comprehension to produce the same output as the above list. "
   ]
  },
  {
   "cell_type": "code",
   "execution_count": null,
   "metadata": {
    "id": "ESO_dxvUD249",
    "outputId": "0a54f860-852e-4a92-f9d0-a0afb52c617e"
   },
   "outputs": [],
   "source": [
    "#### YOUR CODE STARTS HERE ####\n",
    "\n",
    "#### YOUR CODE ENDS HERE ####"
   ]
  },
  {
   "cell_type": "markdown",
   "metadata": {
    "id": "d4q8PMpVD25B"
   },
   "source": [
    "### PyPlot\n",
    "Python library for ploting."
   ]
  },
  {
   "cell_type": "code",
   "execution_count": null,
   "metadata": {
    "id": "56_S8rixD25C"
   },
   "outputs": [],
   "source": [
    "import matplotlib\n",
    "# uncomment the following if you get display error:\n",
    "# matlibplot.use('Agg')\n",
    "import matplotlib.pyplot as plt"
   ]
  },
  {
   "cell_type": "markdown",
   "metadata": {
    "id": "Mbf8N6wYD25G"
   },
   "source": [
    "Display the **confusion matrix** you saw:"
   ]
  },
  {
   "cell_type": "code",
   "execution_count": null,
   "metadata": {
    "id": "eVcyILFTD25G",
    "outputId": "edda692b-988a-4b70-e56f-83d54de46a69"
   },
   "outputs": [],
   "source": [
    "confusion_mtrx = [[16,4,0,1,29], [2,106,0,5,26], [2,0,7,0,4], [0,0,0,19,1], [6,24,0,5,44]]\n",
    "plt.imshow(confusion_mtrx, cmap=plt.cm.Blues)"
   ]
  }
 ],
 "metadata": {
  "anaconda-cloud": {},
  "colab": {
   "name": "Evaluation - Solution",
   "provenance": []
  },
  "kernelspec": {
   "display_name": "Python 3",
   "language": "python",
   "name": "python3"
  },
  "language_info": {
   "codemirror_mode": {
    "name": "ipython",
    "version": 3
   },
   "file_extension": ".py",
   "mimetype": "text/x-python",
   "name": "python",
   "nbconvert_exporter": "python",
   "pygments_lexer": "ipython3",
   "version": "3.8.5"
  },
  "toc": {
   "base_numbering": 1,
   "nav_menu": {},
   "number_sections": true,
   "sideBar": true,
   "skip_h1_title": false,
   "title_cell": "Table of Contents",
   "title_sidebar": "Contents",
   "toc_cell": false,
   "toc_position": {},
   "toc_section_display": true,
   "toc_window_display": false
  }
 },
 "nbformat": 4,
 "nbformat_minor": 1
}
