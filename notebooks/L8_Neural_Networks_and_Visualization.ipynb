{
 "cells": [
  {
   "cell_type": "markdown",
   "metadata": {},
   "source": [
    "# Neural Networks and Visualization"
   ]
  },
  {
   "cell_type": "code",
   "execution_count": 81,
   "metadata": {},
   "outputs": [
    {
     "name": "stderr",
     "output_type": "stream",
     "text": [
      "[nltk_data] Downloading package punkt to\n",
      "[nltk_data]     /Users/meganleszczynski/nltk_data...\n",
      "[nltk_data]   Package punkt is already up-to-date!\n"
     ]
    }
   ],
   "source": [
    "# Run this every time you open the notebook\n",
    "%load_ext autoreload\n",
    "%autoreload 2\n",
    "\n",
    "from lib import lib"
   ]
  },
  {
   "cell_type": "markdown",
   "metadata": {},
   "source": [
    "## 1. Neural Networks for Disaster Classification\n",
    "\n",
    "We're going to build a multi-layer perceptron (MLP) classifier with word embeddings to classify the tweets. "
   ]
  },
  {
   "cell_type": "markdown",
   "metadata": {},
   "source": [
    "### Word Embeddings \n",
    "\n",
    "In this section, we'll inspect pretrained word embeddings and see how we can use them in a neural network! "
   ]
  },
  {
   "cell_type": "markdown",
   "metadata": {},
   "source": [
    "Run the cell below to download the `gensim` package that makes it easy to use pretrained word embeddings. "
   ]
  },
  {
   "cell_type": "code",
   "execution_count": 1,
   "metadata": {},
   "outputs": [
    {
     "name": "stdout",
     "output_type": "stream",
     "text": [
      "Requirement already satisfied: gensim in /Users/meganleszczynski/opt/anaconda3/lib/python3.8/site-packages (4.0.1)\n",
      "Requirement already satisfied: numpy>=1.11.3 in /Users/meganleszczynski/opt/anaconda3/lib/python3.8/site-packages (from gensim) (1.17.3)\n",
      "Requirement already satisfied: scipy>=0.18.1 in /Users/meganleszczynski/opt/anaconda3/lib/python3.8/site-packages (from gensim) (1.3.3)\n",
      "Requirement already satisfied: smart-open>=1.8.1 in /Users/meganleszczynski/opt/anaconda3/lib/python3.8/site-packages (from gensim) (5.1.0)\n"
     ]
    }
   ],
   "source": [
    "!pip install gensim"
   ]
  },
  {
   "cell_type": "markdown",
   "metadata": {},
   "source": [
    "We're going to use 100-dimensional word vectors that have been trained on Twitter using the GloVe embedding algorithm (created by researchers at Stanford!). First we have to download them -- this may take several minutes to run!"
   ]
  },
  {
   "cell_type": "code",
   "execution_count": 2,
   "metadata": {},
   "outputs": [
    {
     "name": "stderr",
     "output_type": "stream",
     "text": [
      "/Users/meganleszczynski/opt/anaconda3/lib/python3.8/site-packages/gensim/similarities/__init__.py:15: UserWarning: The gensim.similarities.levenshtein submodule is disabled, because the optional Levenshtein package <https://pypi.org/project/python-Levenshtein/> is unavailable. Install Levenhstein (e.g. `pip install python-Levenshtein`) to suppress this warning.\n",
      "  warnings.warn(msg)\n"
     ]
    }
   ],
   "source": [
    "import gensim.downloader\n",
    "glove_vectors = gensim.downloader.load('glove-twitter-100')"
   ]
  },
  {
   "cell_type": "markdown",
   "metadata": {},
   "source": [
    "By running the command `most_similar` we can find the words that have the closest word vector to the query word (i.e. nearest neighbors). \n",
    "\n",
    "1.) Run the two cells below to see what words are most similar to the words \"disaster\" and \"hurricane\". The numbers indicate the degree of similarity (where 1 is the highest value). \"Sandy\" actually occurs as a nearest neighbor of hurricane. What does this tell you about the data used to train these word embeddings? "
   ]
  },
  {
   "cell_type": "code",
   "execution_count": 3,
   "metadata": {},
   "outputs": [
    {
     "data": {
      "text/plain": [
       "[('tragedy', 0.6947949528694153),\n",
       " ('hurricane', 0.6831369996070862),\n",
       " ('relief', 0.674776017665863),\n",
       " ('emergency', 0.6712561249732971),\n",
       " ('disasters', 0.6636431217193604),\n",
       " ('sandy', 0.6450616121292114),\n",
       " ('victims', 0.6410350203514099),\n",
       " ('storm', 0.6376098990440369),\n",
       " ('recovery', 0.632839560508728),\n",
       " ('devastating', 0.6277540326118469)]"
      ]
     },
     "execution_count": 3,
     "metadata": {},
     "output_type": "execute_result"
    }
   ],
   "source": [
    "glove_vectors.most_similar('disaster')"
   ]
  },
  {
   "cell_type": "code",
   "execution_count": 4,
   "metadata": {},
   "outputs": [
    {
     "data": {
      "text/plain": [
       "[('sandy', 0.8505326509475708),\n",
       " ('storm', 0.845831036567688),\n",
       " ('isaac', 0.7389059066772461),\n",
       " ('flood', 0.6888666749000549),\n",
       " ('disaster', 0.683137059211731),\n",
       " ('tornado', 0.6815664172172546),\n",
       " ('superstorm', 0.6804999709129333),\n",
       " ('storms', 0.6671198606491089),\n",
       " ('snow', 0.6664155721664429),\n",
       " ('flooding', 0.6586390137672424)]"
      ]
     },
     "execution_count": 4,
     "metadata": {},
     "output_type": "execute_result"
    }
   ],
   "source": [
    "glove_vectors.most_similar('hurricane')"
   ]
  },
  {
   "cell_type": "markdown",
   "metadata": {},
   "source": [
    "2.) Try out your own words. Did you find any words with unexpected results? "
   ]
  },
  {
   "cell_type": "code",
   "execution_count": 5,
   "metadata": {},
   "outputs": [],
   "source": [
    "### YOUR CODE HERE ####\n",
    "\n",
    "### END CODE HERE ####"
   ]
  },
  {
   "cell_type": "markdown",
   "metadata": {},
   "source": [
    "We will use word embeddings convert the raw tweets to vectors that we can use as input into the MLP. Specifically, we will go through the list of tweets, and for each tweet, we will convert the tweet to a single vector, which we'll refer to as the `single_tweet_vector`.  \n",
    "\n",
    "The `single_tweet_vector` will be an average of the word embeddings for each word in the tweet. However, not all words may have a word embedding. This may happen if the word did not occur in the data that the word embeddings were trained on. When we don't have a corresponding work vector, we will assign it a random vector that we'll call a `unk_word_vector` for unknown word vector. \n",
    "\n",
    "3.) Read through the code in the cell below. `tweet_vectors` should be a list of word vectors corresponding to the words in the tweet. Fill in the last step to create the `single_tweet_vector` using the list `tweet_vectors`. \n",
    "\n",
    "*Hint: You can use `np.mean` to take an average of vectors with numpy. "
   ]
  },
  {
   "cell_type": "code",
   "execution_count": 84,
   "metadata": {},
   "outputs": [],
   "source": [
    "import numpy as np\n",
    "np.random.seed(7)\n",
    "\n",
    "unk_word_vector = np.zeros(100)\n",
    "def get_tweet_vector(tweet, vectors): \n",
    "    tweet_vectors = []\n",
    "    # Split tweet into a list of words by splitting on each space in the tweet\n",
    "    for word in tweet.split(\" \"): \n",
    "        try: \n",
    "            tweet_vectors.append(vectors.get_vector(word))\n",
    "        except KeyError: \n",
    "            tweet_vectors.append(unk_word_vector)\n",
    "\n",
    "    ### YOUR CODE HERE ###\n",
    "\n",
    "    ### END CODE HERE ####\n",
    "    \n",
    "    return single_tweet_vector"
   ]
  },
  {
   "cell_type": "markdown",
   "metadata": {},
   "source": [
    "### Multilayer Perceptron Network\n",
    "\n",
    "Now we'll define a multilayer perceptron (MLP) network, train the network, and use it to predict the category for each tweet. Fortunately, we can use `sklearn` tools to help us with these steps. "
   ]
  },
  {
   "cell_type": "code",
   "execution_count": 92,
   "metadata": {},
   "outputs": [],
   "source": [
    "from sklearn.metrics import f1_score, precision_recall_fscore_support\n",
    "from sklearn.metrics import accuracy_score\n",
    "import pandas as pd\n",
    "from sklearn.neural_network import MLPClassifier"
   ]
  },
  {
   "cell_type": "code",
   "execution_count": 99,
   "metadata": {},
   "outputs": [],
   "source": [
    "train_url = 'https://raw.githubusercontent.com/eliaszwang/AI4ALL2020/master/data/pd_labeled-data-singlelabels-train.csv'\n",
    "test_url  = 'https://raw.githubusercontent.com/eliaszwang/AI4ALL2020/master/data/pd_labeled-data-singlelabels-test.csv'\n",
    "\n",
    "df_train = pd.read_csv(train_url)\n",
    "df_test  = pd.read_csv(test_url)\n",
    "\n",
    "# this line below creates a tweet vector for each tweet in the training dataset\n",
    "train_tweets_vecs  = [get_tweet_vector(tweet, glove_vectors) for tweet in df_train['Text']]\n",
    "train_classes = df_train['Class']\n",
    "\n",
    "test_tweets_vecs  = [get_tweet_vector(tweet, glove_vectors) for tweet in df_test['Text']]\n",
    "test_classes = df_test['Class']"
   ]
  },
  {
   "cell_type": "markdown",
   "metadata": {},
   "source": [
    "2.) Build the MLP network and run `fit` to train the model. No need to add code -- just run the cell below! :) "
   ]
  },
  {
   "cell_type": "code",
   "execution_count": 100,
   "metadata": {},
   "outputs": [
    {
     "data": {
      "text/plain": [
       "MLPClassifier(activation='relu', alpha=0.0001, batch_size='auto', beta_1=0.9,\n",
       "              beta_2=0.999, early_stopping=False, epsilon=1e-08,\n",
       "              hidden_layer_sizes=(100,), learning_rate='constant',\n",
       "              learning_rate_init=0.001, max_fun=15000, max_iter=10000,\n",
       "              momentum=0.9, n_iter_no_change=10, nesterovs_momentum=True,\n",
       "              power_t=0.5, random_state=1, shuffle=True, solver='adam',\n",
       "              tol=0.0001, validation_fraction=0.1, verbose=False,\n",
       "              warm_start=False)"
      ]
     },
     "execution_count": 100,
     "metadata": {},
     "output_type": "execute_result"
    }
   ],
   "source": [
    "clf = MLPClassifier(random_state=1, max_iter=10000)\n",
    "clf.fit(train_tweets_vecs, train_classes)"
   ]
  },
  {
   "cell_type": "markdown",
   "metadata": {},
   "source": [
    "3.) Run the cell below to inspect the number of layers in the MLP network. This is the default number in sklearn as we haven't explicitly set it.  "
   ]
  },
  {
   "cell_type": "code",
   "execution_count": 12,
   "metadata": {},
   "outputs": [
    {
     "data": {
      "text/plain": [
       "3"
      ]
     },
     "execution_count": 12,
     "metadata": {},
     "output_type": "execute_result"
    }
   ],
   "source": [
    "clf.n_layers_"
   ]
  },
  {
   "cell_type": "markdown",
   "metadata": {},
   "source": [
    "4.) What is the accuracy and average F1 score for the MLP? We can use the same functions we've used in the classification notebooks. "
   ]
  },
  {
   "cell_type": "code",
   "execution_count": 101,
   "metadata": {},
   "outputs": [
    {
     "data": {
      "text/plain": [
       "0.7508896797153025"
      ]
     },
     "execution_count": 101,
     "metadata": {},
     "output_type": "execute_result"
    }
   ],
   "source": [
    "accuracy = clf.score(test_tweets_vecs, test_classes)\n",
    "accuracy"
   ]
  },
  {
   "cell_type": "code",
   "execution_count": 102,
   "metadata": {},
   "outputs": [
    {
     "name": "stdout",
     "output_type": "stream",
     "text": [
      "[0.85057471 0.60869565 0.54054054 0.75       0.72611465]\n",
      "0.695185111007932\n"
     ]
    }
   ],
   "source": [
    "mlp_predicted_classes = clf.predict(test_tweets_vecs)\n",
    "score = f1_score(test_classes, mlp_predicted_classes, labels=['Food','Water','Energy','Medical','None'], average=None)\n",
    "print(score)\n",
    "average_f1_score = np.average(score)\n",
    "print(average_f1_score)"
   ]
  },
  {
   "cell_type": "markdown",
   "metadata": {},
   "source": [
    "5.) Benchmark time! Can you improve the average F1 score further? How high can you get? \n",
    "\n",
    "**Only two rules: (1) no training on the Sandy test set and (2) no changing random seeds/states**\n",
    "\n",
    "Here are some ideas to get started: \n",
    "- *Hyperparameter search*: Change parameters like the number of layers and number of hidden units in a layer (this is referred to as hyperparameter search). Check out the [sklearn docs](https://scikit-learn.org/stable/modules/generated/sklearn.neural_network.MLPClassifier.html) to see what you change when you build the `MLPClassifier`. \n",
    "- *Apply preprocessing techniques*: For instance, remove stop words from the tweets before processing.  \n",
    "- *Add more data*: Add historical data from Haiti like we did in the mini-project with Naive Bayes. "
   ]
  },
  {
   "cell_type": "markdown",
   "metadata": {},
   "source": [
    "## 2. Visualization \n",
    "\n",
    "Let's generate some plots to better understand our data and to create some material for our presentation ;)"
   ]
  },
  {
   "cell_type": "markdown",
   "metadata": {},
   "source": [
    "1.) Generate a pie chart for class distribution by running the cell below. How does this distribution affect the results we've been seeing?"
   ]
  },
  {
   "cell_type": "code",
   "execution_count": 83,
   "metadata": {},
   "outputs": [
    {
     "data": {
      "image/png": "[encoded data removed]",
      "text/plain": [
       "<Figure size 432x288 with 1 Axes>"
      ]
     },
     "metadata": {},
     "output_type": "display_data"
    }
   ],
   "source": [
    "tweets, test_tweets = lib.read_data()\n",
    "sandy_tweets = tweets+test_tweets\n",
    "lib.class_pie_chart(sandy_tweets)"
   ]
  },
  {
   "cell_type": "markdown",
   "metadata": {},
   "source": [
    "2.) Draw a bar chart for performance metrics: precision, recall, f1 of the Naive Bayes classifier with bigrams by running the cell below. "
   ]
  },
  {
   "cell_type": "code",
   "execution_count": 106,
   "metadata": {},
   "outputs": [
    {
     "name": "stdout",
     "output_type": "stream",
     "text": [
      "Energy\n",
      "Precision:  60.869565217391305\n",
      "Recall:  70.0\n",
      "F1:  65.11627906976743\n",
      "\n",
      "Food\n",
      "Precision:  84.39716312056737\n",
      "Recall:  92.24806201550388\n",
      "F1:  88.14814814814815\n",
      "\n",
      "Medical\n",
      "Precision:  75.0\n",
      "Recall:  46.15384615384615\n",
      "F1:  57.14285714285714\n",
      "\n",
      "None\n",
      "Precision:  83.78378378378379\n",
      "Recall:  78.48101265822785\n",
      "F1:  81.04575163398694\n",
      "\n",
      "Water\n",
      "Precision:  83.33333333333333\n",
      "Recall:  50.0\n",
      "F1:  62.5\n",
      "\n",
      "Average F1:  70.79060719895193\n"
     ]
    },
    {
     "data": {
      "image/png": "[encoded data removed]",
      "text/plain": [
       "<Figure size 432x288 with 1 Axes>"
      ]
     },
     "metadata": {
      "needs_background": "light"
     },
     "output_type": "display_data"
    }
   ],
   "source": [
    "tweets, test_tweets = lib.read_data()\n",
    "prior_probs, token_probs = lib.learn_nb(tweets)\n",
    "predictions = [(tweet, lib.classify_nb(tweet, prior_probs, token_probs)) for tweet in test_tweets]\n",
    "labels, precisions, recalls, f1s = lib.evaluate(predictions, has_return=True)\n",
    "lib.metric_bar_chart(labels, precisions, recalls, f1s)"
   ]
  },
  {
   "cell_type": "markdown",
   "metadata": {},
   "source": [
    "3.) Generate a bar chart using the results of your best MLP above and filling in the code below. What can you takeaway by comparing the bar charts. "
   ]
  },
  {
   "cell_type": "code",
   "execution_count": 108,
   "metadata": {},
   "outputs": [
    {
     "data": {
      "image/png": "[encoded data removed]",
      "text/plain": [
       "<Figure size 432x288 with 1 Axes>"
      ]
     },
     "metadata": {
      "needs_background": "light"
     },
     "output_type": "display_data"
    }
   ],
   "source": [
    "mlp_predicted_classes = clf.predict(test_tweets_vecs)\n",
    "# use the same labels as the bar chart above for easier comparison\n",
    "precisions, recalls, f1s, _ = precision_recall_fscore_support(test_classes, mlp_predicted_classes, labels=labels, average=None)\n",
    "lib.metric_bar_chart(labels, precisions, recalls, f1s)"
   ]
  },
  {
   "cell_type": "markdown",
   "metadata": {},
   "source": [
    "4.) Extension: take a look at the functions `class_pie_chart` and `metric_bar_chart` inn `lib.py` to see how you can use matplotlib to create similar plots. "
   ]
  }
 ],
 "metadata": {
  "kernelspec": {
   "display_name": "Python 3",
   "language": "python",
   "name": "python3"
  },
  "language_info": {
   "codemirror_mode": {
    "name": "ipython",
    "version": 3
   },
   "file_extension": ".py",
   "mimetype": "text/x-python",
   "name": "python",
   "nbconvert_exporter": "python",
   "pygments_lexer": "ipython3",
   "version": "3.8.5"
  }
 },
 "nbformat": 4,
 "nbformat_minor": 4
}
